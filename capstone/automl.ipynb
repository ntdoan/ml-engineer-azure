{
 "cells": [
  {
   "cell_type": "markdown",
   "metadata": {},
   "source": [
    "# Automated ML\n"
   ]
  },
  {
   "cell_type": "markdown",
   "metadata": {},
   "source": [
    "## Setup infrastructure"
   ]
  },
  {
   "cell_type": "markdown",
   "metadata": {},
   "source": [
    "### Workspace and experiment"
   ]
  },
  {
   "cell_type": "code",
   "execution_count": 1,
   "metadata": {
    "collapsed": false,
    "gather": {
     "logged": 1598423890461
    },
    "jupyter": {
     "outputs_hidden": false,
     "source_hidden": false
    },
    "nteract": {
     "transient": {
      "deleting": false
     }
    }
   },
   "outputs": [
    {
     "name": "stdout",
     "output_type": "stream",
     "text": [
      "Workspace name: quick-starts-ws-139442\n",
      "Azure region: southcentralus\n",
      "Subscription id: 510b94ba-e453-4417-988b-fbdc37b55ca7\n",
      "Resource group: aml-quickstarts-139442\n"
     ]
    }
   ],
   "source": [
    "from azureml.core import Workspace, Experiment\n",
    "\n",
    "ws = Workspace.from_config()\n",
    "\n",
    "# choose a name for experiment\n",
    "experiment_name = 'autoML-RUL-prediction-2'\n",
    "\n",
    "# create experiment\n",
    "experiment=Experiment(ws, experiment_name)\n",
    "\n",
    "print('Workspace name: ' + ws.name, \n",
    "      'Azure region: ' + ws.location, \n",
    "      'Subscription id: ' + ws.subscription_id, \n",
    "      'Resource group: ' + ws.resource_group, sep = '\\n')\n"
   ]
  },
  {
   "cell_type": "markdown",
   "metadata": {},
   "source": [
    "### Compute target"
   ]
  },
  {
   "cell_type": "markdown",
   "metadata": {},
   "source": [
    "Create a compute target if not already exists. "
   ]
  },
  {
   "cell_type": "code",
   "execution_count": 2,
   "metadata": {},
   "outputs": [
    {
     "name": "stdout",
     "output_type": "stream",
     "text": [
      "Found existing cluster, use it.\n",
      "Succeeded\n",
      "AmlCompute wait for completion finished\n",
      "\n",
      "Minimum number of nodes requested have been provisioned\n"
     ]
    }
   ],
   "source": [
    "from azureml.core.compute import ComputeTarget, AmlCompute\n",
    "from azureml.core.compute_target import ComputeTargetException\n",
    "\n",
    "cpu_cluster_name = \"cluster-8node\"\n",
    "try:\n",
    "    compute_target = ComputeTarget(workspace=ws, name=cpu_cluster_name)\n",
    "    print('Found existing cluster, use it.')\n",
    "except ComputeTargetException:\n",
    "    compute_config = AmlCompute.provisioning_configuration(\n",
    "        vm_size='STANDARD_D2_V2',\n",
    "        max_nodes=8\n",
    "    )\n",
    "    compute_target = ComputeTarget.create(\n",
    "        ws, \n",
    "        cpu_cluster_name, \n",
    "        compute_config\n",
    "    )\n",
    "\n",
    "compute_target.wait_for_completion(show_output=True)"
   ]
  },
  {
   "cell_type": "markdown",
   "metadata": {},
   "source": [
    "## Dataset\n"
   ]
  },
  {
   "cell_type": "markdown",
   "metadata": {},
   "source": [
    "### Get data from datastore\n",
    "\n",
    "The datasets (train and test) have been uploaded to the datastore prior to this step. "
   ]
  },
  {
   "cell_type": "code",
   "execution_count": 3,
   "metadata": {},
   "outputs": [],
   "source": [
    "from azureml.core import Dataset\n",
    "\n",
    "def dataset_is_registered(dataset_key : str) -> bool:\n",
    "    if key in ws.datasets.keys(): \n",
    "        return True\n",
    "    return False\n",
    "\n",
    "datasets = {\n",
    "    'turbofan2020_test': 'https://www.dropbox.com/s/l9ihi4w0u7mu9h2/test.csv?dl=1', \n",
    "    'turbofan2020_train': 'https://www.dropbox.com/s/v367cwzhaeagpln/train.csv?dl=1', \n",
    "    \n",
    "}\n",
    "\n",
    "\n",
    "def get_dataset_from_datastore(dataset_key: str): \n",
    "    if not dataset_key in ws.datasets.keys(): \n",
    "        print(\"dataset {} not found\".format(dataset_key))\n",
    "        print(\"registering {}\".format(dataset_key))\n",
    "        dataset = Dataset.Tabular.from_delimited_files(path=datasets.get(dataset_key))\n",
    "        dataset.register(workspace=ws, name=dataset_key)\n",
    "        \n",
    "        \n",
    "    dataset = ws.datasets[dataset_key]\n",
    "    return dataset\n",
    "        \n",
    "\n",
    "dataset_train = get_dataset_from_datastore(dataset_key='turbofan2020_train')\n",
    "df_train = dataset_train.to_pandas_dataframe()\n",
    "\n",
    "dataset_test = get_dataset_from_datastore(dataset_key='turbofan2020_test')\n",
    "df_test = dataset_test.to_pandas_dataframe()\n",
    "\n"
   ]
  },
  {
   "cell_type": "code",
   "execution_count": 4,
   "metadata": {},
   "outputs": [
    {
     "name": "stdout",
     "output_type": "stream",
     "text": [
      "                alt          Mach           TRA            T2           T24  \\\n",
      "count  17990.000000  17990.000000  17990.000000  17990.000000  17990.000000   \n",
      "mean   21614.458500      0.619753     68.204505    475.688981    559.542377   \n",
      "std     6456.433407      0.082107     14.535642     16.901636     18.010382   \n",
      "min    10001.000000      0.327189     23.834170    422.873510    486.889131   \n",
      "25%    16167.407500      0.561582     58.714401    461.436045    547.074666   \n",
      "50%    22773.206667      0.636954     74.428914    473.697652    556.539205   \n",
      "75%    27635.335000      0.688085     79.455122    490.300305    571.503904   \n",
      "max    35012.260000      0.738108     87.455820    510.248191    614.186279   \n",
      "\n",
      "                T30           T48           T50           P15            P2  \\\n",
      "count  17990.000000  17990.000000  17990.000000  17990.000000  17990.000000   \n",
      "mean    1319.889430   1642.708782   1107.123325     10.916243      8.322230   \n",
      "std       55.082131     97.693809     51.664114      2.193913      1.810021   \n",
      "min     1084.171817   1252.696885    901.563255      6.048619      4.430216   \n",
      "25%     1287.497729   1588.618748   1073.444635      9.045403      6.755525   \n",
      "50%     1317.419410   1650.588333   1097.389916     10.451030      7.894678   \n",
      "75%     1352.635432   1700.725126   1137.071217     12.668637      9.802423   \n",
      "max     1482.247373   1906.232521   1281.357429     16.711958     12.199076   \n",
      "\n",
      "       ...           W25           W31           W32           W48  \\\n",
      "count  ...  17990.000000  17990.000000  17990.000000  17990.000000   \n",
      "mean   ...    153.017373     17.583927     10.550356    142.936936   \n",
      "std    ...     28.165429      3.327041      1.996225     27.171509   \n",
      "min    ...     72.872998      8.116873      4.870124     65.656537   \n",
      "25%    ...    132.694733     15.183315      9.109989    123.387532   \n",
      "50%    ...    146.266214     16.786447     10.071868    136.415373   \n",
      "75%    ...    170.496963     19.648704     11.789222    159.800321   \n",
      "max    ...    247.590421     28.755368     17.253221    234.519246   \n",
      "\n",
      "                W50         SmFan         SmLPC         SmHPC           phi  \\\n",
      "count  17990.000000  17990.000000  17990.000000  17990.000000  17990.000000   \n",
      "mean     151.352956     19.249325      8.164863     27.919096     38.609884   \n",
      "std       28.720550      1.460014      0.914757      2.003573      2.224007   \n",
      "min       69.665051     14.528100      4.455783     24.009533     29.654243   \n",
      "25%      130.686589     18.182648      7.633515     26.432795     37.409645   \n",
      "50%      144.459593     18.985291      8.298128     27.500880     38.969443   \n",
      "75%      169.173577     19.950312      8.845584     28.955140     40.115517   \n",
      "max      248.137539     26.540261     10.860012     37.026196     43.773788   \n",
      "\n",
      "                RUL  \n",
      "count  17990.000000  \n",
      "mean      37.323013  \n",
      "std       22.373961  \n",
      "min        0.000000  \n",
      "25%       18.000000  \n",
      "50%       36.000000  \n",
      "75%       56.000000  \n",
      "max       88.000000  \n",
      "\n",
      "[8 rows x 33 columns]\n"
     ]
    },
    {
     "data": {
      "text/html": [
       "<div>\n",
       "<style scoped>\n",
       "    .dataframe tbody tr th:only-of-type {\n",
       "        vertical-align: middle;\n",
       "    }\n",
       "\n",
       "    .dataframe tbody tr th {\n",
       "        vertical-align: top;\n",
       "    }\n",
       "\n",
       "    .dataframe thead th {\n",
       "        text-align: right;\n",
       "    }\n",
       "</style>\n",
       "<table border=\"1\" class=\"dataframe\">\n",
       "  <thead>\n",
       "    <tr style=\"text-align: right;\">\n",
       "      <th></th>\n",
       "      <th>alt</th>\n",
       "      <th>Mach</th>\n",
       "      <th>TRA</th>\n",
       "      <th>T2</th>\n",
       "      <th>T24</th>\n",
       "      <th>T30</th>\n",
       "      <th>T48</th>\n",
       "      <th>T50</th>\n",
       "      <th>P15</th>\n",
       "      <th>P2</th>\n",
       "      <th>...</th>\n",
       "      <th>W25</th>\n",
       "      <th>W31</th>\n",
       "      <th>W32</th>\n",
       "      <th>W48</th>\n",
       "      <th>W50</th>\n",
       "      <th>SmFan</th>\n",
       "      <th>SmLPC</th>\n",
       "      <th>SmHPC</th>\n",
       "      <th>phi</th>\n",
       "      <th>RUL</th>\n",
       "    </tr>\n",
       "  </thead>\n",
       "  <tbody>\n",
       "    <tr>\n",
       "      <th>count</th>\n",
       "      <td>4381.000000</td>\n",
       "      <td>4381.000000</td>\n",
       "      <td>4381.000000</td>\n",
       "      <td>4381.000000</td>\n",
       "      <td>4381.000000</td>\n",
       "      <td>4381.000000</td>\n",
       "      <td>4381.000000</td>\n",
       "      <td>4381.000000</td>\n",
       "      <td>4381.000000</td>\n",
       "      <td>4381.000000</td>\n",
       "      <td>...</td>\n",
       "      <td>4381.000000</td>\n",
       "      <td>4381.000000</td>\n",
       "      <td>4381.000000</td>\n",
       "      <td>4381.000000</td>\n",
       "      <td>4381.000000</td>\n",
       "      <td>4381.000000</td>\n",
       "      <td>4381.000000</td>\n",
       "      <td>4381.000000</td>\n",
       "      <td>4381.000000</td>\n",
       "      <td>4381.000000</td>\n",
       "    </tr>\n",
       "    <tr>\n",
       "      <th>mean</th>\n",
       "      <td>18703.079153</td>\n",
       "      <td>0.585746</td>\n",
       "      <td>65.093920</td>\n",
       "      <td>483.191729</td>\n",
       "      <td>565.616347</td>\n",
       "      <td>1328.703685</td>\n",
       "      <td>1648.846191</td>\n",
       "      <td>1120.744664</td>\n",
       "      <td>11.885198</td>\n",
       "      <td>9.138643</td>\n",
       "      <td>...</td>\n",
       "      <td>163.285482</td>\n",
       "      <td>18.796848</td>\n",
       "      <td>11.278109</td>\n",
       "      <td>152.800796</td>\n",
       "      <td>161.781625</td>\n",
       "      <td>19.227164</td>\n",
       "      <td>8.069002</td>\n",
       "      <td>28.021313</td>\n",
       "      <td>38.568113</td>\n",
       "      <td>31.388039</td>\n",
       "    </tr>\n",
       "    <tr>\n",
       "      <th>std</th>\n",
       "      <td>6297.116010</td>\n",
       "      <td>0.081464</td>\n",
       "      <td>15.112719</td>\n",
       "      <td>16.381585</td>\n",
       "      <td>18.234413</td>\n",
       "      <td>58.218225</td>\n",
       "      <td>104.325796</td>\n",
       "      <td>53.352943</td>\n",
       "      <td>2.221300</td>\n",
       "      <td>1.824295</td>\n",
       "      <td>...</td>\n",
       "      <td>29.337598</td>\n",
       "      <td>3.465504</td>\n",
       "      <td>2.079302</td>\n",
       "      <td>28.318837</td>\n",
       "      <td>29.932360</td>\n",
       "      <td>1.449629</td>\n",
       "      <td>0.921979</td>\n",
       "      <td>2.098894</td>\n",
       "      <td>2.375526</td>\n",
       "      <td>19.025628</td>\n",
       "    </tr>\n",
       "    <tr>\n",
       "      <th>min</th>\n",
       "      <td>10009.250000</td>\n",
       "      <td>0.330672</td>\n",
       "      <td>23.839246</td>\n",
       "      <td>443.225516</td>\n",
       "      <td>512.839507</td>\n",
       "      <td>1118.680627</td>\n",
       "      <td>1274.259049</td>\n",
       "      <td>941.904763</td>\n",
       "      <td>7.446690</td>\n",
       "      <td>5.555334</td>\n",
       "      <td>...</td>\n",
       "      <td>90.238279</td>\n",
       "      <td>10.168147</td>\n",
       "      <td>6.100888</td>\n",
       "      <td>82.293572</td>\n",
       "      <td>87.254479</td>\n",
       "      <td>14.706633</td>\n",
       "      <td>4.476232</td>\n",
       "      <td>24.093777</td>\n",
       "      <td>30.105282</td>\n",
       "      <td>0.000000</td>\n",
       "    </tr>\n",
       "    <tr>\n",
       "      <th>25%</th>\n",
       "      <td>12418.226667</td>\n",
       "      <td>0.525135</td>\n",
       "      <td>53.580087</td>\n",
       "      <td>470.356451</td>\n",
       "      <td>552.167639</td>\n",
       "      <td>1292.087558</td>\n",
       "      <td>1586.844144</td>\n",
       "      <td>1083.940622</td>\n",
       "      <td>10.029028</td>\n",
       "      <td>7.614840</td>\n",
       "      <td>...</td>\n",
       "      <td>141.079604</td>\n",
       "      <td>16.173778</td>\n",
       "      <td>9.704267</td>\n",
       "      <td>131.401297</td>\n",
       "      <td>139.157986</td>\n",
       "      <td>18.139152</td>\n",
       "      <td>7.505072</td>\n",
       "      <td>26.269980</td>\n",
       "      <td>37.041535</td>\n",
       "      <td>15.000000</td>\n",
       "    </tr>\n",
       "    <tr>\n",
       "      <th>50%</th>\n",
       "      <td>18701.560000</td>\n",
       "      <td>0.584181</td>\n",
       "      <td>69.904482</td>\n",
       "      <td>483.568310</td>\n",
       "      <td>562.999947</td>\n",
       "      <td>1326.085813</td>\n",
       "      <td>1655.679304</td>\n",
       "      <td>1112.045291</td>\n",
       "      <td>11.735302</td>\n",
       "      <td>9.022708</td>\n",
       "      <td>...</td>\n",
       "      <td>157.366692</td>\n",
       "      <td>18.097691</td>\n",
       "      <td>10.858614</td>\n",
       "      <td>146.967991</td>\n",
       "      <td>155.631434</td>\n",
       "      <td>19.190287</td>\n",
       "      <td>8.177727</td>\n",
       "      <td>27.730773</td>\n",
       "      <td>38.841946</td>\n",
       "      <td>31.000000</td>\n",
       "    </tr>\n",
       "    <tr>\n",
       "      <th>75%</th>\n",
       "      <td>23988.466667</td>\n",
       "      <td>0.650900</td>\n",
       "      <td>78.599733</td>\n",
       "      <td>497.898020</td>\n",
       "      <td>578.240512</td>\n",
       "      <td>1367.332798</td>\n",
       "      <td>1718.348560</td>\n",
       "      <td>1156.250371</td>\n",
       "      <td>13.741832</td>\n",
       "      <td>10.883932</td>\n",
       "      <td>...</td>\n",
       "      <td>182.954196</td>\n",
       "      <td>21.120214</td>\n",
       "      <td>12.672129</td>\n",
       "      <td>171.755794</td>\n",
       "      <td>181.808897</td>\n",
       "      <td>19.961255</td>\n",
       "      <td>8.764781</td>\n",
       "      <td>29.416528</td>\n",
       "      <td>40.346144</td>\n",
       "      <td>48.000000</td>\n",
       "    </tr>\n",
       "    <tr>\n",
       "      <th>max</th>\n",
       "      <td>31015.186667</td>\n",
       "      <td>0.736659</td>\n",
       "      <td>86.307976</td>\n",
       "      <td>510.501427</td>\n",
       "      <td>608.634210</td>\n",
       "      <td>1454.877330</td>\n",
       "      <td>1874.654022</td>\n",
       "      <td>1265.845116</td>\n",
       "      <td>16.329258</td>\n",
       "      <td>12.240255</td>\n",
       "      <td>...</td>\n",
       "      <td>234.943782</td>\n",
       "      <td>27.261484</td>\n",
       "      <td>16.356891</td>\n",
       "      <td>222.130706</td>\n",
       "      <td>235.052587</td>\n",
       "      <td>25.913393</td>\n",
       "      <td>10.003073</td>\n",
       "      <td>36.341097</td>\n",
       "      <td>43.337365</td>\n",
       "      <td>75.000000</td>\n",
       "    </tr>\n",
       "  </tbody>\n",
       "</table>\n",
       "<p>8 rows × 33 columns</p>\n",
       "</div>"
      ],
      "text/plain": [
       "                alt         Mach          TRA           T2          T24  \\\n",
       "count   4381.000000  4381.000000  4381.000000  4381.000000  4381.000000   \n",
       "mean   18703.079153     0.585746    65.093920   483.191729   565.616347   \n",
       "std     6297.116010     0.081464    15.112719    16.381585    18.234413   \n",
       "min    10009.250000     0.330672    23.839246   443.225516   512.839507   \n",
       "25%    12418.226667     0.525135    53.580087   470.356451   552.167639   \n",
       "50%    18701.560000     0.584181    69.904482   483.568310   562.999947   \n",
       "75%    23988.466667     0.650900    78.599733   497.898020   578.240512   \n",
       "max    31015.186667     0.736659    86.307976   510.501427   608.634210   \n",
       "\n",
       "               T30          T48          T50          P15           P2  ...  \\\n",
       "count  4381.000000  4381.000000  4381.000000  4381.000000  4381.000000  ...   \n",
       "mean   1328.703685  1648.846191  1120.744664    11.885198     9.138643  ...   \n",
       "std      58.218225   104.325796    53.352943     2.221300     1.824295  ...   \n",
       "min    1118.680627  1274.259049   941.904763     7.446690     5.555334  ...   \n",
       "25%    1292.087558  1586.844144  1083.940622    10.029028     7.614840  ...   \n",
       "50%    1326.085813  1655.679304  1112.045291    11.735302     9.022708  ...   \n",
       "75%    1367.332798  1718.348560  1156.250371    13.741832    10.883932  ...   \n",
       "max    1454.877330  1874.654022  1265.845116    16.329258    12.240255  ...   \n",
       "\n",
       "               W25          W31          W32          W48          W50  \\\n",
       "count  4381.000000  4381.000000  4381.000000  4381.000000  4381.000000   \n",
       "mean    163.285482    18.796848    11.278109   152.800796   161.781625   \n",
       "std      29.337598     3.465504     2.079302    28.318837    29.932360   \n",
       "min      90.238279    10.168147     6.100888    82.293572    87.254479   \n",
       "25%     141.079604    16.173778     9.704267   131.401297   139.157986   \n",
       "50%     157.366692    18.097691    10.858614   146.967991   155.631434   \n",
       "75%     182.954196    21.120214    12.672129   171.755794   181.808897   \n",
       "max     234.943782    27.261484    16.356891   222.130706   235.052587   \n",
       "\n",
       "             SmFan        SmLPC        SmHPC          phi          RUL  \n",
       "count  4381.000000  4381.000000  4381.000000  4381.000000  4381.000000  \n",
       "mean     19.227164     8.069002    28.021313    38.568113    31.388039  \n",
       "std       1.449629     0.921979     2.098894     2.375526    19.025628  \n",
       "min      14.706633     4.476232    24.093777    30.105282     0.000000  \n",
       "25%      18.139152     7.505072    26.269980    37.041535    15.000000  \n",
       "50%      19.190287     8.177727    27.730773    38.841946    31.000000  \n",
       "75%      19.961255     8.764781    29.416528    40.346144    48.000000  \n",
       "max      25.913393    10.003073    36.341097    43.337365    75.000000  \n",
       "\n",
       "[8 rows x 33 columns]"
      ]
     },
     "execution_count": 4,
     "metadata": {},
     "output_type": "execute_result"
    }
   ],
   "source": [
    "print(df_train.describe())\n",
    "df_test.describe()"
   ]
  },
  {
   "cell_type": "markdown",
   "metadata": {},
   "source": [
    "\n",
    "### Overview\n",
    "\n",
    "Let's take a quick look at the data: "
   ]
  },
  {
   "cell_type": "code",
   "execution_count": 5,
   "metadata": {},
   "outputs": [
    {
     "data": {
      "text/html": [
       "<div>\n",
       "<style scoped>\n",
       "    .dataframe tbody tr th:only-of-type {\n",
       "        vertical-align: middle;\n",
       "    }\n",
       "\n",
       "    .dataframe tbody tr th {\n",
       "        vertical-align: top;\n",
       "    }\n",
       "\n",
       "    .dataframe thead th {\n",
       "        text-align: right;\n",
       "    }\n",
       "</style>\n",
       "<table border=\"1\" class=\"dataframe\">\n",
       "  <thead>\n",
       "    <tr style=\"text-align: right;\">\n",
       "      <th></th>\n",
       "      <th>alt</th>\n",
       "      <th>Mach</th>\n",
       "      <th>TRA</th>\n",
       "      <th>T2</th>\n",
       "      <th>T24</th>\n",
       "      <th>T30</th>\n",
       "      <th>T48</th>\n",
       "      <th>T50</th>\n",
       "      <th>P15</th>\n",
       "      <th>P2</th>\n",
       "      <th>...</th>\n",
       "      <th>W25</th>\n",
       "      <th>W31</th>\n",
       "      <th>W32</th>\n",
       "      <th>W48</th>\n",
       "      <th>W50</th>\n",
       "      <th>SmFan</th>\n",
       "      <th>SmLPC</th>\n",
       "      <th>SmHPC</th>\n",
       "      <th>phi</th>\n",
       "      <th>RUL</th>\n",
       "    </tr>\n",
       "  </thead>\n",
       "  <tbody>\n",
       "    <tr>\n",
       "      <th>0</th>\n",
       "      <td>10755.846667</td>\n",
       "      <td>0.482464</td>\n",
       "      <td>77.419957</td>\n",
       "      <td>502.715524</td>\n",
       "      <td>600.842489</td>\n",
       "      <td>1438.543404</td>\n",
       "      <td>1817.226678</td>\n",
       "      <td>1224.041054</td>\n",
       "      <td>15.686092</td>\n",
       "      <td>11.488172</td>\n",
       "      <td>...</td>\n",
       "      <td>226.527619</td>\n",
       "      <td>26.267325</td>\n",
       "      <td>15.760395</td>\n",
       "      <td>213.955572</td>\n",
       "      <td>226.414508</td>\n",
       "      <td>17.071320</td>\n",
       "      <td>9.633927</td>\n",
       "      <td>25.468917</td>\n",
       "      <td>41.855555</td>\n",
       "      <td>74.0</td>\n",
       "    </tr>\n",
       "    <tr>\n",
       "      <th>1</th>\n",
       "      <td>13239.803333</td>\n",
       "      <td>0.522359</td>\n",
       "      <td>78.849927</td>\n",
       "      <td>497.183179</td>\n",
       "      <td>595.356518</td>\n",
       "      <td>1426.477576</td>\n",
       "      <td>1802.148702</td>\n",
       "      <td>1207.513483</td>\n",
       "      <td>14.645682</td>\n",
       "      <td>10.699411</td>\n",
       "      <td>...</td>\n",
       "      <td>213.349419</td>\n",
       "      <td>24.710650</td>\n",
       "      <td>14.826390</td>\n",
       "      <td>201.243117</td>\n",
       "      <td>212.977353</td>\n",
       "      <td>17.457839</td>\n",
       "      <td>9.453333</td>\n",
       "      <td>25.562107</td>\n",
       "      <td>41.637166</td>\n",
       "      <td>74.0</td>\n",
       "    </tr>\n",
       "    <tr>\n",
       "      <th>2</th>\n",
       "      <td>15451.223333</td>\n",
       "      <td>0.542607</td>\n",
       "      <td>79.364963</td>\n",
       "      <td>490.867389</td>\n",
       "      <td>588.145503</td>\n",
       "      <td>1410.437354</td>\n",
       "      <td>1781.089558</td>\n",
       "      <td>1189.760028</td>\n",
       "      <td>13.603001</td>\n",
       "      <td>9.930772</td>\n",
       "      <td>...</td>\n",
       "      <td>199.744282</td>\n",
       "      <td>23.103543</td>\n",
       "      <td>13.862126</td>\n",
       "      <td>188.110171</td>\n",
       "      <td>199.096147</td>\n",
       "      <td>17.639119</td>\n",
       "      <td>9.415637</td>\n",
       "      <td>25.694706</td>\n",
       "      <td>41.315347</td>\n",
       "      <td>74.0</td>\n",
       "    </tr>\n",
       "    <tr>\n",
       "      <th>3</th>\n",
       "      <td>17282.070000</td>\n",
       "      <td>0.563765</td>\n",
       "      <td>79.655587</td>\n",
       "      <td>486.092689</td>\n",
       "      <td>582.603059</td>\n",
       "      <td>1397.532616</td>\n",
       "      <td>1763.726386</td>\n",
       "      <td>1175.010565</td>\n",
       "      <td>12.822429</td>\n",
       "      <td>9.360759</td>\n",
       "      <td>...</td>\n",
       "      <td>189.270960</td>\n",
       "      <td>21.866382</td>\n",
       "      <td>13.119829</td>\n",
       "      <td>178.001510</td>\n",
       "      <td>188.411436</td>\n",
       "      <td>17.824628</td>\n",
       "      <td>9.341039</td>\n",
       "      <td>25.844179</td>\n",
       "      <td>41.038986</td>\n",
       "      <td>74.0</td>\n",
       "    </tr>\n",
       "    <tr>\n",
       "      <th>4</th>\n",
       "      <td>18929.040000</td>\n",
       "      <td>0.581075</td>\n",
       "      <td>80.191713</td>\n",
       "      <td>481.634278</td>\n",
       "      <td>577.668525</td>\n",
       "      <td>1386.604684</td>\n",
       "      <td>1749.818216</td>\n",
       "      <td>1162.702555</td>\n",
       "      <td>12.148701</td>\n",
       "      <td>8.859822</td>\n",
       "      <td>...</td>\n",
       "      <td>180.420380</td>\n",
       "      <td>20.820907</td>\n",
       "      <td>12.492544</td>\n",
       "      <td>169.465076</td>\n",
       "      <td>179.388207</td>\n",
       "      <td>17.922389</td>\n",
       "      <td>9.308881</td>\n",
       "      <td>25.943568</td>\n",
       "      <td>40.834236</td>\n",
       "      <td>74.0</td>\n",
       "    </tr>\n",
       "  </tbody>\n",
       "</table>\n",
       "<p>5 rows × 33 columns</p>\n",
       "</div>"
      ],
      "text/plain": [
       "            alt      Mach        TRA          T2         T24          T30  \\\n",
       "0  10755.846667  0.482464  77.419957  502.715524  600.842489  1438.543404   \n",
       "1  13239.803333  0.522359  78.849927  497.183179  595.356518  1426.477576   \n",
       "2  15451.223333  0.542607  79.364963  490.867389  588.145503  1410.437354   \n",
       "3  17282.070000  0.563765  79.655587  486.092689  582.603059  1397.532616   \n",
       "4  18929.040000  0.581075  80.191713  481.634278  577.668525  1386.604684   \n",
       "\n",
       "           T48          T50        P15         P2  ...         W25        W31  \\\n",
       "0  1817.226678  1224.041054  15.686092  11.488172  ...  226.527619  26.267325   \n",
       "1  1802.148702  1207.513483  14.645682  10.699411  ...  213.349419  24.710650   \n",
       "2  1781.089558  1189.760028  13.603001   9.930772  ...  199.744282  23.103543   \n",
       "3  1763.726386  1175.010565  12.822429   9.360759  ...  189.270960  21.866382   \n",
       "4  1749.818216  1162.702555  12.148701   8.859822  ...  180.420380  20.820907   \n",
       "\n",
       "         W32         W48         W50      SmFan     SmLPC      SmHPC  \\\n",
       "0  15.760395  213.955572  226.414508  17.071320  9.633927  25.468917   \n",
       "1  14.826390  201.243117  212.977353  17.457839  9.453333  25.562107   \n",
       "2  13.862126  188.110171  199.096147  17.639119  9.415637  25.694706   \n",
       "3  13.119829  178.001510  188.411436  17.824628  9.341039  25.844179   \n",
       "4  12.492544  169.465076  179.388207  17.922389  9.308881  25.943568   \n",
       "\n",
       "         phi   RUL  \n",
       "0  41.855555  74.0  \n",
       "1  41.637166  74.0  \n",
       "2  41.315347  74.0  \n",
       "3  41.038986  74.0  \n",
       "4  40.834236  74.0  \n",
       "\n",
       "[5 rows x 33 columns]"
      ]
     },
     "execution_count": 5,
     "metadata": {},
     "output_type": "execute_result"
    }
   ],
   "source": [
    "df_train.head()\n",
    "\n"
   ]
  },
  {
   "cell_type": "markdown",
   "metadata": {},
   "source": [
    "## AutoML Configuration\n",
    "\n",
    "Setup AutoMLConfig. More details regarding the choices of configurations may be found in the project's [README](README.md)."
   ]
  },
  {
   "cell_type": "code",
   "execution_count": 2,
   "metadata": {
    "collapsed": false,
    "gather": {
     "logged": 1598429217746
    },
    "jupyter": {
     "outputs_hidden": false,
     "source_hidden": false
    },
    "nteract": {
     "transient": {
      "deleting": false
     }
    }
   },
   "outputs": [],
   "source": [
    "#TODO: Put your automl settings here\n",
    "from azureml.train.automl import AutoMLConfig\n",
    "automl_settings = {\n",
    "    \"experiment_timeout_minutes\": 30,\n",
    "    \"max_concurrent_iterations\": 5,\n",
    "    \"primary_metric\" : \"normalized_root_mean_squared_error\"\n",
    "}\n",
    "\n",
    "# TODO: Put your automl config here\n",
    "automl_config = AutoMLConfig(\n",
    "    task=\"regression\", \n",
    "    compute_target=compute_target, \n",
    "    training_data=dataset_train,\n",
    "    label_column_name=\"RUL\", \n",
    "    n_cross_validations=5, \n",
    "    **automl_settings\n",
    ")"
   ]
  },
  {
   "cell_type": "code",
   "execution_count": null,
   "metadata": {},
   "outputs": [],
   "source": [
    "# TODO: Submit your experiment\n",
    "autoML_remote_run = experiment.submit(automl_config)"
   ]
  },
  {
   "cell_type": "markdown",
   "metadata": {},
   "source": [
    "## Run Details\n",
    "\n",
    "Here wer use the `RunDetails` widget to show the different experiments."
   ]
  },
  {
   "cell_type": "code",
   "execution_count": 15,
   "metadata": {
    "collapsed": false,
    "gather": {
     "logged": 1598431121770
    },
    "jupyter": {
     "outputs_hidden": false,
     "source_hidden": false
    },
    "nteract": {
     "transient": {
      "deleting": false
     }
    }
   },
   "outputs": [
    {
     "data": {
      "application/vnd.jupyter.widget-view+json": {
       "model_id": "d74da87634134335bc9eef512dc7bfd0",
       "version_major": 2,
       "version_minor": 0
      },
      "text/plain": [
       "_AutoMLWidget(widget_settings={'childWidgetDisplay': 'popup', 'send_telemetry': False, 'log_level': 'INFO', 's…"
      ]
     },
     "metadata": {},
     "output_type": "display_data"
    },
    {
     "data": {
      "application/aml.mini.widget.v1": "{\"status\": \"Completed\", \"workbench_run_details_uri\": \"https://ml.azure.com/experiments/autoML-RUL-prediction-2/runs/AutoML_7e19b30d-bcf9-441d-966f-7615b9f3735d?wsid=/subscriptions/61c5c3f0-6dc7-4ed9-a7f3-c704b20e3b30/resourcegroups/aml-quickstarts-138882/workspaces/quick-starts-ws-138882\", \"run_id\": \"AutoML_7e19b30d-bcf9-441d-966f-7615b9f3735d\", \"run_properties\": {\"run_id\": \"AutoML_7e19b30d-bcf9-441d-966f-7615b9f3735d\", \"created_utc\": \"2021-02-14T13:44:44.81805Z\", \"properties\": {\"num_iterations\": \"1000\", \"training_type\": \"TrainFull\", \"acquisition_function\": \"EI\", \"primary_metric\": \"normalized_root_mean_squared_error\", \"train_split\": \"0\", \"acquisition_parameter\": \"0\", \"num_cross_validation\": \"5\", \"target\": \"cluster-8node\", \"AMLSettingsJsonString\": \"{\\\"path\\\":null,\\\"name\\\":\\\"autoML-RUL-prediction-2\\\",\\\"subscription_id\\\":\\\"61c5c3f0-6dc7-4ed9-a7f3-c704b20e3b30\\\",\\\"resource_group\\\":\\\"aml-quickstarts-138882\\\",\\\"workspace_name\\\":\\\"quick-starts-ws-138882\\\",\\\"region\\\":\\\"southcentralus\\\",\\\"compute_target\\\":\\\"cluster-8node\\\",\\\"spark_service\\\":null,\\\"azure_service\\\":\\\"remote\\\",\\\"many_models\\\":false,\\\"pipeline_fetch_max_batch_size\\\":1,\\\"iterations\\\":1000,\\\"primary_metric\\\":\\\"normalized_root_mean_squared_error\\\",\\\"task_type\\\":\\\"regression\\\",\\\"data_script\\\":null,\\\"validation_size\\\":0.0,\\\"n_cross_validations\\\":5,\\\"y_min\\\":null,\\\"y_max\\\":null,\\\"num_classes\\\":null,\\\"featurization\\\":\\\"auto\\\",\\\"_ignore_package_version_incompatibilities\\\":false,\\\"is_timeseries\\\":false,\\\"max_cores_per_iteration\\\":1,\\\"max_concurrent_iterations\\\":1,\\\"iteration_timeout_minutes\\\":null,\\\"mem_in_mb\\\":null,\\\"enforce_time_on_windows\\\":false,\\\"experiment_timeout_minutes\\\":30,\\\"experiment_exit_score\\\":null,\\\"whitelist_models\\\":null,\\\"blacklist_algos\\\":[\\\"TensorFlowDNN\\\",\\\"TensorFlowLinearRegressor\\\"],\\\"supported_models\\\":[\\\"OnlineGradientDescentRegressor\\\",\\\"GradientBoosting\\\",\\\"SGD\\\",\\\"TensorFlowDNN\\\",\\\"ExtremeRandomTrees\\\",\\\"DecisionTree\\\",\\\"LassoLars\\\",\\\"KNN\\\",\\\"XGBoostRegressor\\\",\\\"TensorFlowLinearRegressor\\\",\\\"FastLinearRegressor\\\",\\\"LightGBM\\\",\\\"ElasticNet\\\",\\\"RandomForest\\\"],\\\"auto_blacklist\\\":true,\\\"blacklist_samples_reached\\\":false,\\\"exclude_nan_labels\\\":true,\\\"verbosity\\\":20,\\\"_debug_log\\\":\\\"azureml_automl.log\\\",\\\"show_warnings\\\":false,\\\"model_explainability\\\":true,\\\"service_url\\\":null,\\\"sdk_url\\\":null,\\\"sdk_packages\\\":null,\\\"enable_onnx_compatible_models\\\":false,\\\"enable_split_onnx_featurizer_estimator_models\\\":false,\\\"vm_type\\\":\\\"STANDARD_DS3_V2\\\",\\\"telemetry_verbosity\\\":20,\\\"send_telemetry\\\":true,\\\"enable_dnn\\\":false,\\\"scenario\\\":\\\"SDK-1.13.0\\\",\\\"environment_label\\\":null,\\\"force_text_dnn\\\":false,\\\"enable_feature_sweeping\\\":true,\\\"enable_early_stopping\\\":false,\\\"early_stopping_n_iters\\\":10,\\\"metrics\\\":null,\\\"enable_ensembling\\\":true,\\\"enable_stack_ensembling\\\":true,\\\"ensemble_iterations\\\":15,\\\"enable_tf\\\":false,\\\"enable_subsampling\\\":null,\\\"subsample_seed\\\":null,\\\"enable_nimbusml\\\":false,\\\"enable_streaming\\\":false,\\\"force_streaming\\\":false,\\\"track_child_runs\\\":true,\\\"allowed_private_models\\\":[],\\\"label_column_name\\\":\\\"RUL\\\",\\\"weight_column_name\\\":null,\\\"cv_split_column_names\\\":null,\\\"enable_local_managed\\\":false,\\\"_local_managed_run_id\\\":null,\\\"cost_mode\\\":1,\\\"lag_length\\\":0,\\\"metric_operation\\\":\\\"minimize\\\",\\\"preprocess\\\":true}\", \"DataPrepJsonString\": \"{\\\\\\\"training_data\\\\\\\": \\\\\\\"{\\\\\\\\\\\\\\\"blocks\\\\\\\\\\\\\\\": [{\\\\\\\\\\\\\\\"id\\\\\\\\\\\\\\\": \\\\\\\\\\\\\\\"984d590f-2017-416c-9866-effe75c66eb1\\\\\\\\\\\\\\\", \\\\\\\\\\\\\\\"type\\\\\\\\\\\\\\\": \\\\\\\\\\\\\\\"Microsoft.DPrep.GetDatastoreFilesBlock\\\\\\\\\\\\\\\", \\\\\\\\\\\\\\\"arguments\\\\\\\\\\\\\\\": {\\\\\\\\\\\\\\\"datastores\\\\\\\\\\\\\\\": [{\\\\\\\\\\\\\\\"datastoreName\\\\\\\\\\\\\\\": \\\\\\\\\\\\\\\"workspaceblobstore\\\\\\\\\\\\\\\", \\\\\\\\\\\\\\\"path\\\\\\\\\\\\\\\": \\\\\\\\\\\\\\\"UI/02-14-2021_122533_UTC/train.csv\\\\\\\\\\\\\\\", \\\\\\\\\\\\\\\"resourceGroup\\\\\\\\\\\\\\\": \\\\\\\\\\\\\\\"aml-quickstarts-138882\\\\\\\\\\\\\\\", \\\\\\\\\\\\\\\"subscription\\\\\\\\\\\\\\\": \\\\\\\\\\\\\\\"61c5c3f0-6dc7-4ed9-a7f3-c704b20e3b30\\\\\\\\\\\\\\\", \\\\\\\\\\\\\\\"workspaceName\\\\\\\\\\\\\\\": \\\\\\\\\\\\\\\"quick-starts-ws-138882\\\\\\\\\\\\\\\"}]}, \\\\\\\\\\\\\\\"localData\\\\\\\\\\\\\\\": {}, \\\\\\\\\\\\\\\"isEnabled\\\\\\\\\\\\\\\": true, \\\\\\\\\\\\\\\"name\\\\\\\\\\\\\\\": null, \\\\\\\\\\\\\\\"annotation\\\\\\\\\\\\\\\": null}, {\\\\\\\\\\\\\\\"id\\\\\\\\\\\\\\\": \\\\\\\\\\\\\\\"f7192db4-f0ac-4636-8ed6-e051f8c1ab86\\\\\\\\\\\\\\\", \\\\\\\\\\\\\\\"type\\\\\\\\\\\\\\\": \\\\\\\\\\\\\\\"Microsoft.DPrep.ParseDelimitedBlock\\\\\\\\\\\\\\\", \\\\\\\\\\\\\\\"arguments\\\\\\\\\\\\\\\": {\\\\\\\\\\\\\\\"columnHeadersMode\\\\\\\\\\\\\\\": 1, \\\\\\\\\\\\\\\"fileEncoding\\\\\\\\\\\\\\\": 0, \\\\\\\\\\\\\\\"handleQuotedLineBreaks\\\\\\\\\\\\\\\": false, \\\\\\\\\\\\\\\"preview\\\\\\\\\\\\\\\": false, \\\\\\\\\\\\\\\"separator\\\\\\\\\\\\\\\": \\\\\\\\\\\\\\\",\\\\\\\\\\\\\\\", \\\\\\\\\\\\\\\"skipRows\\\\\\\\\\\\\\\": 0, \\\\\\\\\\\\\\\"skipRowsMode\\\\\\\\\\\\\\\": 0}, \\\\\\\\\\\\\\\"localData\\\\\\\\\\\\\\\": {}, \\\\\\\\\\\\\\\"isEnabled\\\\\\\\\\\\\\\": true, \\\\\\\\\\\\\\\"name\\\\\\\\\\\\\\\": null, \\\\\\\\\\\\\\\"annotation\\\\\\\\\\\\\\\": null}, {\\\\\\\\\\\\\\\"id\\\\\\\\\\\\\\\": \\\\\\\\\\\\\\\"9c032f98-5f12-4b0f-95dd-3682311a6c86\\\\\\\\\\\\\\\", \\\\\\\\\\\\\\\"type\\\\\\\\\\\\\\\": \\\\\\\\\\\\\\\"Microsoft.DPrep.DropColumnsBlock\\\\\\\\\\\\\\\", \\\\\\\\\\\\\\\"arguments\\\\\\\\\\\\\\\": {\\\\\\\\\\\\\\\"columns\\\\\\\\\\\\\\\": {\\\\\\\\\\\\\\\"type\\\\\\\\\\\\\\\": 0, \\\\\\\\\\\\\\\"details\\\\\\\\\\\\\\\": {\\\\\\\\\\\\\\\"selectedColumns\\\\\\\\\\\\\\\": [\\\\\\\\\\\\\\\"Path\\\\\\\\\\\\\\\"]}}}, \\\\\\\\\\\\\\\"localData\\\\\\\\\\\\\\\": {}, \\\\\\\\\\\\\\\"isEnabled\\\\\\\\\\\\\\\": true, \\\\\\\\\\\\\\\"name\\\\\\\\\\\\\\\": null, \\\\\\\\\\\\\\\"annotation\\\\\\\\\\\\\\\": null}, {\\\\\\\\\\\\\\\"id\\\\\\\\\\\\\\\": \\\\\\\\\\\\\\\"d7fc3106-0289-4046-a846-35042c217790\\\\\\\\\\\\\\\", \\\\\\\\\\\\\\\"type\\\\\\\\\\\\\\\": \\\\\\\\\\\\\\\"Microsoft.DPrep.SetColumnTypesBlock\\\\\\\\\\\\\\\", \\\\\\\\\\\\\\\"arguments\\\\\\\\\\\\\\\": {\\\\\\\\\\\\\\\"columnConversion\\\\\\\\\\\\\\\": [{\\\\\\\\\\\\\\\"column\\\\\\\\\\\\\\\": {\\\\\\\\\\\\\\\"type\\\\\\\\\\\\\\\": 2, \\\\\\\\\\\\\\\"details\\\\\\\\\\\\\\\": {\\\\\\\\\\\\\\\"selectedColumn\\\\\\\\\\\\\\\": \\\\\\\\\\\\\\\"Path\\\\\\\\\\\\\\\"}}, \\\\\\\\\\\\\\\"typeProperty\\\\\\\\\\\\\\\": 0}, {\\\\\\\\\\\\\\\"column\\\\\\\\\\\\\\\": {\\\\\\\\\\\\\\\"type\\\\\\\\\\\\\\\": 2, \\\\\\\\\\\\\\\"details\\\\\\\\\\\\\\\": {\\\\\\\\\\\\\\\"selectedColumn\\\\\\\\\\\\\\\": \\\\\\\\\\\\\\\"alt\\\\\\\\\\\\\\\"}}, \\\\\\\\\\\\\\\"typeProperty\\\\\\\\\\\\\\\": 3}, {\\\\\\\\\\\\\\\"column\\\\\\\\\\\\\\\": {\\\\\\\\\\\\\\\"type\\\\\\\\\\\\\\\": 2, \\\\\\\\\\\\\\\"details\\\\\\\\\\\\\\\": {\\\\\\\\\\\\\\\"selectedColumn\\\\\\\\\\\\\\\": \\\\\\\\\\\\\\\"Mach\\\\\\\\\\\\\\\"}}, \\\\\\\\\\\\\\\"typeProperty\\\\\\\\\\\\\\\": 3}, {\\\\\\\\\\\\\\\"column\\\\\\\\\\\\\\\": {\\\\\\\\\\\\\\\"type\\\\\\\\\\\\\\\": 2, \\\\\\\\\\\\\\\"details\\\\\\\\\\\\\\\": {\\\\\\\\\\\\\\\"selectedColumn\\\\\\\\\\\\\\\": \\\\\\\\\\\\\\\"TRA\\\\\\\\\\\\\\\"}}, \\\\\\\\\\\\\\\"typeProperty\\\\\\\\\\\\\\\": 3}, {\\\\\\\\\\\\\\\"column\\\\\\\\\\\\\\\": {\\\\\\\\\\\\\\\"type\\\\\\\\\\\\\\\": 2, \\\\\\\\\\\\\\\"details\\\\\\\\\\\\\\\": {\\\\\\\\\\\\\\\"selectedColumn\\\\\\\\\\\\\\\": \\\\\\\\\\\\\\\"T2\\\\\\\\\\\\\\\"}}, \\\\\\\\\\\\\\\"typeProperty\\\\\\\\\\\\\\\": 3}, {\\\\\\\\\\\\\\\"column\\\\\\\\\\\\\\\": {\\\\\\\\\\\\\\\"type\\\\\\\\\\\\\\\": 2, \\\\\\\\\\\\\\\"details\\\\\\\\\\\\\\\": {\\\\\\\\\\\\\\\"selectedColumn\\\\\\\\\\\\\\\": \\\\\\\\\\\\\\\"T24\\\\\\\\\\\\\\\"}}, \\\\\\\\\\\\\\\"typeProperty\\\\\\\\\\\\\\\": 3}, {\\\\\\\\\\\\\\\"column\\\\\\\\\\\\\\\": {\\\\\\\\\\\\\\\"type\\\\\\\\\\\\\\\": 2, \\\\\\\\\\\\\\\"details\\\\\\\\\\\\\\\": {\\\\\\\\\\\\\\\"selectedColumn\\\\\\\\\\\\\\\": \\\\\\\\\\\\\\\"T30\\\\\\\\\\\\\\\"}}, \\\\\\\\\\\\\\\"typeProperty\\\\\\\\\\\\\\\": 3}, {\\\\\\\\\\\\\\\"column\\\\\\\\\\\\\\\": {\\\\\\\\\\\\\\\"type\\\\\\\\\\\\\\\": 2, \\\\\\\\\\\\\\\"details\\\\\\\\\\\\\\\": {\\\\\\\\\\\\\\\"selectedColumn\\\\\\\\\\\\\\\": \\\\\\\\\\\\\\\"T48\\\\\\\\\\\\\\\"}}, \\\\\\\\\\\\\\\"typeProperty\\\\\\\\\\\\\\\": 3}, {\\\\\\\\\\\\\\\"column\\\\\\\\\\\\\\\": {\\\\\\\\\\\\\\\"type\\\\\\\\\\\\\\\": 2, \\\\\\\\\\\\\\\"details\\\\\\\\\\\\\\\": {\\\\\\\\\\\\\\\"selectedColumn\\\\\\\\\\\\\\\": \\\\\\\\\\\\\\\"T50\\\\\\\\\\\\\\\"}}, \\\\\\\\\\\\\\\"typeProperty\\\\\\\\\\\\\\\": 3}, {\\\\\\\\\\\\\\\"column\\\\\\\\\\\\\\\": {\\\\\\\\\\\\\\\"type\\\\\\\\\\\\\\\": 2, \\\\\\\\\\\\\\\"details\\\\\\\\\\\\\\\": {\\\\\\\\\\\\\\\"selectedColumn\\\\\\\\\\\\\\\": \\\\\\\\\\\\\\\"P15\\\\\\\\\\\\\\\"}}, \\\\\\\\\\\\\\\"typeProperty\\\\\\\\\\\\\\\": 3}, {\\\\\\\\\\\\\\\"column\\\\\\\\\\\\\\\": {\\\\\\\\\\\\\\\"type\\\\\\\\\\\\\\\": 2, \\\\\\\\\\\\\\\"details\\\\\\\\\\\\\\\": {\\\\\\\\\\\\\\\"selectedColumn\\\\\\\\\\\\\\\": \\\\\\\\\\\\\\\"P2\\\\\\\\\\\\\\\"}}, \\\\\\\\\\\\\\\"typeProperty\\\\\\\\\\\\\\\": 3}, {\\\\\\\\\\\\\\\"column\\\\\\\\\\\\\\\": {\\\\\\\\\\\\\\\"type\\\\\\\\\\\\\\\": 2, \\\\\\\\\\\\\\\"details\\\\\\\\\\\\\\\": {\\\\\\\\\\\\\\\"selectedColumn\\\\\\\\\\\\\\\": \\\\\\\\\\\\\\\"P21\\\\\\\\\\\\\\\"}}, \\\\\\\\\\\\\\\"typeProperty\\\\\\\\\\\\\\\": 3}, {\\\\\\\\\\\\\\\"column\\\\\\\\\\\\\\\": {\\\\\\\\\\\\\\\"type\\\\\\\\\\\\\\\": 2, \\\\\\\\\\\\\\\"details\\\\\\\\\\\\\\\": {\\\\\\\\\\\\\\\"selectedColumn\\\\\\\\\\\\\\\": \\\\\\\\\\\\\\\"P24\\\\\\\\\\\\\\\"}}, \\\\\\\\\\\\\\\"typeProperty\\\\\\\\\\\\\\\": 3}, {\\\\\\\\\\\\\\\"column\\\\\\\\\\\\\\\": {\\\\\\\\\\\\\\\"type\\\\\\\\\\\\\\\": 2, \\\\\\\\\\\\\\\"details\\\\\\\\\\\\\\\": {\\\\\\\\\\\\\\\"selectedColumn\\\\\\\\\\\\\\\": \\\\\\\\\\\\\\\"Ps30\\\\\\\\\\\\\\\"}}, \\\\\\\\\\\\\\\"typeProperty\\\\\\\\\\\\\\\": 3}, {\\\\\\\\\\\\\\\"column\\\\\\\\\\\\\\\": {\\\\\\\\\\\\\\\"type\\\\\\\\\\\\\\\": 2, \\\\\\\\\\\\\\\"details\\\\\\\\\\\\\\\": {\\\\\\\\\\\\\\\"selectedColumn\\\\\\\\\\\\\\\": \\\\\\\\\\\\\\\"P40\\\\\\\\\\\\\\\"}}, \\\\\\\\\\\\\\\"typeProperty\\\\\\\\\\\\\\\": 3}, {\\\\\\\\\\\\\\\"column\\\\\\\\\\\\\\\": {\\\\\\\\\\\\\\\"type\\\\\\\\\\\\\\\": 2, \\\\\\\\\\\\\\\"details\\\\\\\\\\\\\\\": {\\\\\\\\\\\\\\\"selectedColumn\\\\\\\\\\\\\\\": \\\\\\\\\\\\\\\"P50\\\\\\\\\\\\\\\"}}, \\\\\\\\\\\\\\\"typeProperty\\\\\\\\\\\\\\\": 3}, {\\\\\\\\\\\\\\\"column\\\\\\\\\\\\\\\": {\\\\\\\\\\\\\\\"type\\\\\\\\\\\\\\\": 2, \\\\\\\\\\\\\\\"details\\\\\\\\\\\\\\\": {\\\\\\\\\\\\\\\"selectedColumn\\\\\\\\\\\\\\\": \\\\\\\\\\\\\\\"Nf\\\\\\\\\\\\\\\"}}, \\\\\\\\\\\\\\\"typeProperty\\\\\\\\\\\\\\\": 3}, {\\\\\\\\\\\\\\\"column\\\\\\\\\\\\\\\": {\\\\\\\\\\\\\\\"type\\\\\\\\\\\\\\\": 2, \\\\\\\\\\\\\\\"details\\\\\\\\\\\\\\\": {\\\\\\\\\\\\\\\"selectedColumn\\\\\\\\\\\\\\\": \\\\\\\\\\\\\\\"Nc\\\\\\\\\\\\\\\"}}, \\\\\\\\\\\\\\\"typeProperty\\\\\\\\\\\\\\\": 3}, {\\\\\\\\\\\\\\\"column\\\\\\\\\\\\\\\": {\\\\\\\\\\\\\\\"type\\\\\\\\\\\\\\\": 2, \\\\\\\\\\\\\\\"details\\\\\\\\\\\\\\\": {\\\\\\\\\\\\\\\"selectedColumn\\\\\\\\\\\\\\\": \\\\\\\\\\\\\\\"Wf\\\\\\\\\\\\\\\"}}, \\\\\\\\\\\\\\\"typeProperty\\\\\\\\\\\\\\\": 3}, {\\\\\\\\\\\\\\\"column\\\\\\\\\\\\\\\": {\\\\\\\\\\\\\\\"type\\\\\\\\\\\\\\\": 2, \\\\\\\\\\\\\\\"details\\\\\\\\\\\\\\\": {\\\\\\\\\\\\\\\"selectedColumn\\\\\\\\\\\\\\\": \\\\\\\\\\\\\\\"T40\\\\\\\\\\\\\\\"}}, \\\\\\\\\\\\\\\"typeProperty\\\\\\\\\\\\\\\": 3}, {\\\\\\\\\\\\\\\"column\\\\\\\\\\\\\\\": {\\\\\\\\\\\\\\\"type\\\\\\\\\\\\\\\": 2, \\\\\\\\\\\\\\\"details\\\\\\\\\\\\\\\": {\\\\\\\\\\\\\\\"selectedColumn\\\\\\\\\\\\\\\": \\\\\\\\\\\\\\\"P30\\\\\\\\\\\\\\\"}}, \\\\\\\\\\\\\\\"typeProperty\\\\\\\\\\\\\\\": 3}, {\\\\\\\\\\\\\\\"column\\\\\\\\\\\\\\\": {\\\\\\\\\\\\\\\"type\\\\\\\\\\\\\\\": 2, \\\\\\\\\\\\\\\"details\\\\\\\\\\\\\\\": {\\\\\\\\\\\\\\\"selectedColumn\\\\\\\\\\\\\\\": \\\\\\\\\\\\\\\"P45\\\\\\\\\\\\\\\"}}, \\\\\\\\\\\\\\\"typeProperty\\\\\\\\\\\\\\\": 3}, {\\\\\\\\\\\\\\\"column\\\\\\\\\\\\\\\": {\\\\\\\\\\\\\\\"type\\\\\\\\\\\\\\\": 2, \\\\\\\\\\\\\\\"details\\\\\\\\\\\\\\\": {\\\\\\\\\\\\\\\"selectedColumn\\\\\\\\\\\\\\\": \\\\\\\\\\\\\\\"W21\\\\\\\\\\\\\\\"}}, \\\\\\\\\\\\\\\"typeProperty\\\\\\\\\\\\\\\": 3}, {\\\\\\\\\\\\\\\"column\\\\\\\\\\\\\\\": {\\\\\\\\\\\\\\\"type\\\\\\\\\\\\\\\": 2, \\\\\\\\\\\\\\\"details\\\\\\\\\\\\\\\": {\\\\\\\\\\\\\\\"selectedColumn\\\\\\\\\\\\\\\": \\\\\\\\\\\\\\\"W22\\\\\\\\\\\\\\\"}}, \\\\\\\\\\\\\\\"typeProperty\\\\\\\\\\\\\\\": 3}, {\\\\\\\\\\\\\\\"column\\\\\\\\\\\\\\\": {\\\\\\\\\\\\\\\"type\\\\\\\\\\\\\\\": 2, \\\\\\\\\\\\\\\"details\\\\\\\\\\\\\\\": {\\\\\\\\\\\\\\\"selectedColumn\\\\\\\\\\\\\\\": \\\\\\\\\\\\\\\"W25\\\\\\\\\\\\\\\"}}, \\\\\\\\\\\\\\\"typeProperty\\\\\\\\\\\\\\\": 3}, {\\\\\\\\\\\\\\\"column\\\\\\\\\\\\\\\": {\\\\\\\\\\\\\\\"type\\\\\\\\\\\\\\\": 2, \\\\\\\\\\\\\\\"details\\\\\\\\\\\\\\\": {\\\\\\\\\\\\\\\"selectedColumn\\\\\\\\\\\\\\\": \\\\\\\\\\\\\\\"W31\\\\\\\\\\\\\\\"}}, \\\\\\\\\\\\\\\"typeProperty\\\\\\\\\\\\\\\": 3}, {\\\\\\\\\\\\\\\"column\\\\\\\\\\\\\\\": {\\\\\\\\\\\\\\\"type\\\\\\\\\\\\\\\": 2, \\\\\\\\\\\\\\\"details\\\\\\\\\\\\\\\": {\\\\\\\\\\\\\\\"selectedColumn\\\\\\\\\\\\\\\": \\\\\\\\\\\\\\\"W32\\\\\\\\\\\\\\\"}}, \\\\\\\\\\\\\\\"typeProperty\\\\\\\\\\\\\\\": 3}, {\\\\\\\\\\\\\\\"column\\\\\\\\\\\\\\\": {\\\\\\\\\\\\\\\"type\\\\\\\\\\\\\\\": 2, \\\\\\\\\\\\\\\"details\\\\\\\\\\\\\\\": {\\\\\\\\\\\\\\\"selectedColumn\\\\\\\\\\\\\\\": \\\\\\\\\\\\\\\"W48\\\\\\\\\\\\\\\"}}, \\\\\\\\\\\\\\\"typeProperty\\\\\\\\\\\\\\\": 3}, {\\\\\\\\\\\\\\\"column\\\\\\\\\\\\\\\": {\\\\\\\\\\\\\\\"type\\\\\\\\\\\\\\\": 2, \\\\\\\\\\\\\\\"details\\\\\\\\\\\\\\\": {\\\\\\\\\\\\\\\"selectedColumn\\\\\\\\\\\\\\\": \\\\\\\\\\\\\\\"W50\\\\\\\\\\\\\\\"}}, \\\\\\\\\\\\\\\"typeProperty\\\\\\\\\\\\\\\": 3}, {\\\\\\\\\\\\\\\"column\\\\\\\\\\\\\\\": {\\\\\\\\\\\\\\\"type\\\\\\\\\\\\\\\": 2, \\\\\\\\\\\\\\\"details\\\\\\\\\\\\\\\": {\\\\\\\\\\\\\\\"selectedColumn\\\\\\\\\\\\\\\": \\\\\\\\\\\\\\\"SmFan\\\\\\\\\\\\\\\"}}, \\\\\\\\\\\\\\\"typeProperty\\\\\\\\\\\\\\\": 3}, {\\\\\\\\\\\\\\\"column\\\\\\\\\\\\\\\": {\\\\\\\\\\\\\\\"type\\\\\\\\\\\\\\\": 2, \\\\\\\\\\\\\\\"details\\\\\\\\\\\\\\\": {\\\\\\\\\\\\\\\"selectedColumn\\\\\\\\\\\\\\\": \\\\\\\\\\\\\\\"SmLPC\\\\\\\\\\\\\\\"}}, \\\\\\\\\\\\\\\"typeProperty\\\\\\\\\\\\\\\": 3}, {\\\\\\\\\\\\\\\"column\\\\\\\\\\\\\\\": {\\\\\\\\\\\\\\\"type\\\\\\\\\\\\\\\": 2, \\\\\\\\\\\\\\\"details\\\\\\\\\\\\\\\": {\\\\\\\\\\\\\\\"selectedColumn\\\\\\\\\\\\\\\": \\\\\\\\\\\\\\\"SmHPC\\\\\\\\\\\\\\\"}}, \\\\\\\\\\\\\\\"typeProperty\\\\\\\\\\\\\\\": 3}, {\\\\\\\\\\\\\\\"column\\\\\\\\\\\\\\\": {\\\\\\\\\\\\\\\"type\\\\\\\\\\\\\\\": 2, \\\\\\\\\\\\\\\"details\\\\\\\\\\\\\\\": {\\\\\\\\\\\\\\\"selectedColumn\\\\\\\\\\\\\\\": \\\\\\\\\\\\\\\"phi\\\\\\\\\\\\\\\"}}, \\\\\\\\\\\\\\\"typeProperty\\\\\\\\\\\\\\\": 3}, {\\\\\\\\\\\\\\\"column\\\\\\\\\\\\\\\": {\\\\\\\\\\\\\\\"type\\\\\\\\\\\\\\\": 2, \\\\\\\\\\\\\\\"details\\\\\\\\\\\\\\\": {\\\\\\\\\\\\\\\"selectedColumn\\\\\\\\\\\\\\\": \\\\\\\\\\\\\\\"RUL\\\\\\\\\\\\\\\"}}, \\\\\\\\\\\\\\\"typeProperty\\\\\\\\\\\\\\\": 3}]}, \\\\\\\\\\\\\\\"localData\\\\\\\\\\\\\\\": {}, \\\\\\\\\\\\\\\"isEnabled\\\\\\\\\\\\\\\": true, \\\\\\\\\\\\\\\"name\\\\\\\\\\\\\\\": null, \\\\\\\\\\\\\\\"annotation\\\\\\\\\\\\\\\": null}], \\\\\\\\\\\\\\\"inspectors\\\\\\\\\\\\\\\": [], \\\\\\\\\\\\\\\"meta\\\\\\\\\\\\\\\": {\\\\\\\\\\\\\\\"savedDatasetId\\\\\\\\\\\\\\\": \\\\\\\\\\\\\\\"bee66491-0246-407b-8d68-167f29ba5569\\\\\\\\\\\\\\\", \\\\\\\\\\\\\\\"datasetType\\\\\\\\\\\\\\\": \\\\\\\\\\\\\\\"tabular\\\\\\\\\\\\\\\", \\\\\\\\\\\\\\\"subscriptionId\\\\\\\\\\\\\\\": \\\\\\\\\\\\\\\"61c5c3f0-6dc7-4ed9-a7f3-c704b20e3b30\\\\\\\\\\\\\\\", \\\\\\\\\\\\\\\"workspaceId\\\\\\\\\\\\\\\": \\\\\\\\\\\\\\\"08e6a607-c525-47e4-9091-400d771841b1\\\\\\\\\\\\\\\", \\\\\\\\\\\\\\\"workspaceLocation\\\\\\\\\\\\\\\": \\\\\\\\\\\\\\\"southcentralus\\\\\\\\\\\\\\\"}}\\\\\\\", \\\\\\\"activities\\\\\\\": 0}\", \"EnableSubsampling\": null, \"runTemplate\": \"AutoML\", \"azureml.runsource\": \"automl\", \"display_task_type\": \"regression\", \"dependencies_versions\": \"{\\\"azureml-widgets\\\": \\\"1.20.0\\\", \\\"azureml-train\\\": \\\"1.20.0\\\", \\\"azureml-train-restclients-hyperdrive\\\": \\\"1.20.0\\\", \\\"azureml-train-core\\\": \\\"1.20.0\\\", \\\"azureml-train-automl\\\": \\\"1.20.0\\\", \\\"azureml-train-automl-runtime\\\": \\\"1.20.0\\\", \\\"azureml-train-automl-client\\\": \\\"1.20.0\\\", \\\"azureml-tensorboard\\\": \\\"1.20.0\\\", \\\"azureml-telemetry\\\": \\\"1.20.0\\\", \\\"azureml-sdk\\\": \\\"1.20.0\\\", \\\"azureml-samples\\\": \\\"0+unknown\\\", \\\"azureml-pipeline\\\": \\\"1.20.0\\\", \\\"azureml-pipeline-steps\\\": \\\"1.20.0\\\", \\\"azureml-pipeline-core\\\": \\\"1.20.0\\\", \\\"azureml-opendatasets\\\": \\\"1.20.0\\\", \\\"azureml-model-management-sdk\\\": \\\"1.0.1b6.post1\\\", \\\"azureml-mlflow\\\": \\\"1.20.0.post1\\\", \\\"azureml-interpret\\\": \\\"1.20.0\\\", \\\"azureml-explain-model\\\": \\\"1.20.0\\\", \\\"azureml-defaults\\\": \\\"1.20.0\\\", \\\"azureml-dataset-runtime\\\": \\\"1.20.0\\\", \\\"azureml-dataprep\\\": \\\"2.7.3\\\", \\\"azureml-dataprep-rslex\\\": \\\"1.5.0\\\", \\\"azureml-dataprep-native\\\": \\\"27.0.0\\\", \\\"azureml-datadrift\\\": \\\"1.20.0\\\", \\\"azureml-core\\\": \\\"1.20.0\\\", \\\"azureml-contrib-services\\\": \\\"1.20.0\\\", \\\"azureml-contrib-server\\\": \\\"1.20.0\\\", \\\"azureml-contrib-reinforcementlearning\\\": \\\"1.20.0\\\", \\\"azureml-contrib-pipeline-steps\\\": \\\"1.20.0\\\", \\\"azureml-contrib-notebook\\\": \\\"1.20.0\\\", \\\"azureml-contrib-interpret\\\": \\\"1.20.0\\\", \\\"azureml-contrib-gbdt\\\": \\\"1.20.0\\\", \\\"azureml-contrib-fairness\\\": \\\"1.20.0\\\", \\\"azureml-contrib-dataset\\\": \\\"1.20.0\\\", \\\"azureml-cli-common\\\": \\\"1.20.0\\\", \\\"azureml-automl-runtime\\\": \\\"1.20.0\\\", \\\"azureml-automl-core\\\": \\\"1.20.0\\\", \\\"azureml-accel-models\\\": \\\"1.20.0\\\"}\", \"_aml_system_scenario_identification\": \"Remote.Parent\", \"ClientType\": \"SDK\", \"environment_cpu_name\": \"AzureML-AutoML\", \"environment_cpu_label\": \"prod\", \"environment_gpu_name\": \"AzureML-AutoML-GPU\", \"environment_gpu_label\": \"prod\", \"root_attribution\": \"automl\", \"attribution\": \"AutoML\", \"Orchestrator\": \"AutoML\", \"CancelUri\": \"https://southcentralus.experiments.azureml.net/jasmine/v1.0/subscriptions/61c5c3f0-6dc7-4ed9-a7f3-c704b20e3b30/resourceGroups/aml-quickstarts-138882/providers/Microsoft.MachineLearningServices/workspaces/quick-starts-ws-138882/experimentids/5d00b1c7-1855-4472-b979-33a71f51aa97/cancel/AutoML_7e19b30d-bcf9-441d-966f-7615b9f3735d\", \"ClientSdkVersion\": \"1.21.0\", \"snapshotId\": \"00000000-0000-0000-0000-000000000000\", \"SetupRunId\": \"AutoML_7e19b30d-bcf9-441d-966f-7615b9f3735d_setup\", \"SetupRunContainerId\": \"dcid.AutoML_7e19b30d-bcf9-441d-966f-7615b9f3735d_setup\", \"FeaturizationRunJsonPath\": \"featurizer_container.json\", \"FeaturizationRunId\": \"AutoML_7e19b30d-bcf9-441d-966f-7615b9f3735d_featurize\", \"ProblemInfoJsonString\": \"{\\\"dataset_num_categorical\\\": 0, \\\"is_sparse\\\": false, \\\"subsampling\\\": false, \\\"dataset_classes\\\": 89, \\\"dataset_features\\\": 32, \\\"dataset_samples\\\": 17990, \\\"single_frequency_class_detected\\\": false}\", \"ModelExplainRunId\": \"AutoML_7e19b30d-bcf9-441d-966f-7615b9f3735d_ModelExplain\"}, \"tags\": {\"model_explain_run\": \"best_run\", \"_aml_system_azureml.automlComponent\": \"AutoML\", \"pipeline_id\": \"\", \"score\": \"\", \"predicted_cost\": \"\", \"fit_time\": \"\", \"training_percent\": \"\", \"iteration\": \"\", \"run_preprocessor\": \"\", \"run_algorithm\": \"\", \"automl_best_child_run_id\": \"AutoML_7e19b30d-bcf9-441d-966f-7615b9f3735d_26\", \"model_explain_best_run_child_id\": \"AutoML_7e19b30d-bcf9-441d-966f-7615b9f3735d_26\"}, \"end_time_utc\": \"2021-02-14T14:22:59.789181Z\", \"status\": \"Completed\", \"log_files\": {}, \"log_groups\": [], \"run_duration\": \"0:38:14\"}, \"child_runs\": [{\"run_id\": \"AutoML_7e19b30d-bcf9-441d-966f-7615b9f3735d_0\", \"run_number\": 34, \"metric\": null, \"status\": \"Completed\", \"run_type\": \"azureml.scriptrun\", \"training_percent\": \"100\", \"start_time\": \"2021-02-14T13:47:52.30358Z\", \"end_time\": \"2021-02-14T13:48:45.38655Z\", \"created_time\": \"2021-02-14T13:47:38.567826Z\", \"created_time_dt\": \"2021-02-14T13:47:38.567826Z\", \"duration\": \"0:01:06\", \"iteration\": \"0\", \"goal\": \"normalized_root_mean_squared_error_min\", \"run_name\": \"MaxAbsScaler, LightGBM\", \"run_properties\": \"copy=True\", \"primary_metric\": 0.11659644, \"best_metric\": 0.11659644}, {\"run_id\": \"AutoML_7e19b30d-bcf9-441d-966f-7615b9f3735d_1\", \"run_number\": 35, \"metric\": null, \"status\": \"Completed\", \"run_type\": \"azureml.scriptrun\", \"training_percent\": \"100\", \"start_time\": \"2021-02-14T13:48:58.658068Z\", \"end_time\": \"2021-02-14T13:50:11.31261Z\", \"created_time\": \"2021-02-14T13:48:46.594123Z\", \"created_time_dt\": \"2021-02-14T13:48:46.594123Z\", \"duration\": \"0:01:24\", \"iteration\": \"1\", \"goal\": \"normalized_root_mean_squared_error_min\", \"run_name\": \"MaxAbsScaler, XGBoostRegressor\", \"run_properties\": \"copy=True\", \"primary_metric\": 0.15189358, \"best_metric\": 0.11659644}, {\"run_id\": \"AutoML_7e19b30d-bcf9-441d-966f-7615b9f3735d_2\", \"run_number\": 36, \"metric\": null, \"status\": \"Completed\", \"run_type\": \"azureml.scriptrun\", \"training_percent\": \"100\", \"start_time\": \"2021-02-14T13:50:29.782125Z\", \"end_time\": \"2021-02-14T13:51:21.89767Z\", \"created_time\": \"2021-02-14T13:50:13.468851Z\", \"created_time_dt\": \"2021-02-14T13:50:13.468851Z\", \"duration\": \"0:01:08\", \"iteration\": \"2\", \"goal\": \"normalized_root_mean_squared_error_min\", \"run_name\": \"RobustScaler, LassoLars\", \"run_properties\": \"copy=True, quantile_range=[10, 90], with_centering=False,\\n             with_scaling=True\", \"primary_metric\": 0.13224044, \"best_metric\": 0.11659644}, {\"run_id\": \"AutoML_7e19b30d-bcf9-441d-966f-7615b9f3735d_3\", \"run_number\": 37, \"metric\": null, \"status\": \"Completed\", \"run_type\": \"azureml.scriptrun\", \"training_percent\": \"100\", \"start_time\": \"2021-02-14T13:51:38.403771Z\", \"end_time\": \"2021-02-14T13:52:30.250285Z\", \"created_time\": \"2021-02-14T13:51:24.365107Z\", \"created_time_dt\": \"2021-02-14T13:51:24.365107Z\", \"duration\": \"0:01:05\", \"iteration\": \"3\", \"goal\": \"normalized_root_mean_squared_error_min\", \"run_name\": \"RobustScaler, DecisionTree\", \"run_properties\": \"copy=True, quantile_range=[10, 90], with_centering=True,\\n             with_scaling=False\", \"primary_metric\": 0.17230364, \"best_metric\": 0.11659644}, {\"run_id\": \"AutoML_7e19b30d-bcf9-441d-966f-7615b9f3735d_4\", \"run_number\": 38, \"metric\": null, \"status\": \"Completed\", \"run_type\": \"azureml.scriptrun\", \"training_percent\": \"100\", \"start_time\": \"2021-02-14T13:52:44.72739Z\", \"end_time\": \"2021-02-14T13:53:39.345212Z\", \"created_time\": \"2021-02-14T13:52:33.003165Z\", \"created_time_dt\": \"2021-02-14T13:52:33.003165Z\", \"duration\": \"0:01:06\", \"iteration\": \"4\", \"goal\": \"normalized_root_mean_squared_error_min\", \"run_name\": \"StandardScalerWrapper, DecisionTree\", \"run_properties\": \"<azureml.automl.runtime.shared.model_wrappers.StandardScalerWrapper object at 0x7ff4da008ac8\", \"primary_metric\": 0.18733002, \"best_metric\": 0.11659644}, {\"run_id\": \"AutoML_7e19b30d-bcf9-441d-966f-7615b9f3735d_5\", \"run_number\": 39, \"metric\": null, \"status\": \"Completed\", \"run_type\": \"azureml.scriptrun\", \"training_percent\": \"100\", \"start_time\": \"2021-02-14T13:53:54.441911Z\", \"end_time\": \"2021-02-14T13:54:55.230575Z\", \"created_time\": \"2021-02-14T13:53:41.381887Z\", \"created_time_dt\": \"2021-02-14T13:53:41.381887Z\", \"duration\": \"0:01:13\", \"iteration\": \"5\", \"goal\": \"normalized_root_mean_squared_error_min\", \"run_name\": \"RobustScaler, DecisionTree\", \"run_properties\": \"copy=True, quantile_range=[10, 90], with_centering=False,\\n             with_scaling=True\", \"primary_metric\": 0.17791042, \"best_metric\": 0.11659644}, {\"run_id\": \"AutoML_7e19b30d-bcf9-441d-966f-7615b9f3735d_6\", \"run_number\": 40, \"metric\": null, \"status\": \"Completed\", \"run_type\": \"azureml.scriptrun\", \"training_percent\": \"100\", \"start_time\": \"2021-02-14T13:55:09.556128Z\", \"end_time\": \"2021-02-14T13:55:55.643162Z\", \"created_time\": \"2021-02-14T13:54:58.31347Z\", \"created_time_dt\": \"2021-02-14T13:54:58.31347Z\", \"duration\": \"0:00:57\", \"iteration\": \"6\", \"goal\": \"normalized_root_mean_squared_error_min\", \"run_name\": \"StandardScalerWrapper, ElasticNet\", \"run_properties\": \"<azureml.automl.runtime.shared.model_wrappers.StandardScalerWrapper object at 0x7f61c5fe0ef0\", \"primary_metric\": 0.15213948, \"best_metric\": 0.11659644}, {\"run_id\": \"AutoML_7e19b30d-bcf9-441d-966f-7615b9f3735d_7\", \"run_number\": 41, \"metric\": null, \"status\": \"Completed\", \"run_type\": \"azureml.scriptrun\", \"training_percent\": \"100\", \"start_time\": \"2021-02-14T13:56:13.769536Z\", \"end_time\": \"2021-02-14T13:57:05.724927Z\", \"created_time\": \"2021-02-14T13:55:59.506205Z\", \"created_time_dt\": \"2021-02-14T13:55:59.506205Z\", \"duration\": \"0:01:06\", \"iteration\": \"7\", \"goal\": \"normalized_root_mean_squared_error_min\", \"run_name\": \"MinMaxScaler, DecisionTree\", \"run_properties\": \"copy=True, feature_range=(0, 1\", \"primary_metric\": 0.19399233, \"best_metric\": 0.11659644}, {\"run_id\": \"AutoML_7e19b30d-bcf9-441d-966f-7615b9f3735d_8\", \"run_number\": 42, \"metric\": null, \"status\": \"Completed\", \"run_type\": \"azureml.scriptrun\", \"training_percent\": \"100\", \"start_time\": \"2021-02-14T13:57:20.165735Z\", \"end_time\": \"2021-02-14T13:58:15.049446Z\", \"created_time\": \"2021-02-14T13:57:08.060087Z\", \"created_time_dt\": \"2021-02-14T13:57:08.060087Z\", \"duration\": \"0:01:06\", \"iteration\": \"8\", \"goal\": \"normalized_root_mean_squared_error_min\", \"run_name\": \"MinMaxScaler, ElasticNet\", \"run_properties\": \"copy=True, feature_range=(0, 1\", \"primary_metric\": 0.15486892, \"best_metric\": 0.11659644}, {\"run_id\": \"AutoML_7e19b30d-bcf9-441d-966f-7615b9f3735d_9\", \"run_number\": 43, \"metric\": null, \"status\": \"Completed\", \"run_type\": \"azureml.scriptrun\", \"training_percent\": \"100\", \"start_time\": \"2021-02-14T13:58:29.424928Z\", \"end_time\": \"2021-02-14T13:59:21.933853Z\", \"created_time\": \"2021-02-14T13:58:17.333375Z\", \"created_time_dt\": \"2021-02-14T13:58:17.333375Z\", \"duration\": \"0:01:04\", \"iteration\": \"9\", \"goal\": \"normalized_root_mean_squared_error_min\", \"run_name\": \"StandardScalerWrapper, DecisionTree\", \"run_properties\": \"<azureml.automl.runtime.shared.model_wrappers.StandardScalerWrapper object at 0x7f481e0cf518\", \"primary_metric\": 0.19850957, \"best_metric\": 0.11659644}, {\"run_id\": \"AutoML_7e19b30d-bcf9-441d-966f-7615b9f3735d_10\", \"run_number\": 44, \"metric\": null, \"status\": \"Completed\", \"run_type\": \"azureml.scriptrun\", \"training_percent\": \"100\", \"start_time\": \"2021-02-14T13:59:37.15144Z\", \"end_time\": \"2021-02-14T14:00:35.871881Z\", \"created_time\": \"2021-02-14T13:59:23.879399Z\", \"created_time_dt\": \"2021-02-14T13:59:23.879399Z\", \"duration\": \"0:01:11\", \"iteration\": \"10\", \"goal\": \"normalized_root_mean_squared_error_min\", \"run_name\": \"StandardScalerWrapper, DecisionTree\", \"run_properties\": \"<azureml.automl.runtime.shared.model_wrappers.StandardScalerWrapper object at 0x7f58d967c1d0\", \"primary_metric\": 0.18094834, \"best_metric\": 0.11659644}, {\"run_id\": \"AutoML_7e19b30d-bcf9-441d-966f-7615b9f3735d_11\", \"run_number\": 45, \"metric\": null, \"status\": \"Completed\", \"run_type\": \"azureml.scriptrun\", \"training_percent\": \"100\", \"start_time\": \"2021-02-14T14:00:50.046926Z\", \"end_time\": \"2021-02-14T14:01:42.159021Z\", \"created_time\": \"2021-02-14T14:00:37.996551Z\", \"created_time_dt\": \"2021-02-14T14:00:37.996551Z\", \"duration\": \"0:01:04\", \"iteration\": \"11\", \"goal\": \"normalized_root_mean_squared_error_min\", \"run_name\": \"RobustScaler, DecisionTree\", \"run_properties\": \"copy=True, quantile_range=[10, 90], with_centering=True,\\n             with_scaling=False\", \"primary_metric\": 0.17615182, \"best_metric\": 0.11659644}, {\"run_id\": \"AutoML_7e19b30d-bcf9-441d-966f-7615b9f3735d_12\", \"run_number\": 46, \"metric\": null, \"status\": \"Completed\", \"run_type\": \"azureml.scriptrun\", \"training_percent\": \"100\", \"start_time\": \"2021-02-14T14:01:56.359312Z\", \"end_time\": \"2021-02-14T14:02:44.282012Z\", \"created_time\": \"2021-02-14T14:01:44.934233Z\", \"created_time_dt\": \"2021-02-14T14:01:44.934233Z\", \"duration\": \"0:00:59\", \"iteration\": \"12\", \"goal\": \"normalized_root_mean_squared_error_min\", \"run_name\": \"RobustScaler, ElasticNet\", \"run_properties\": \"copy=True, quantile_range=[25, 75], with_centering=True,\\n             with_scaling=False\", \"primary_metric\": 0.13506219, \"best_metric\": 0.11659644}, {\"run_id\": \"AutoML_7e19b30d-bcf9-441d-966f-7615b9f3735d_13\", \"run_number\": 47, \"metric\": null, \"status\": \"Completed\", \"run_type\": \"azureml.scriptrun\", \"training_percent\": \"100\", \"start_time\": \"2021-02-14T14:02:59.064762Z\", \"end_time\": \"2021-02-14T14:03:57.295644Z\", \"created_time\": \"2021-02-14T14:02:46.823655Z\", \"created_time_dt\": \"2021-02-14T14:02:46.823655Z\", \"duration\": \"0:01:10\", \"iteration\": \"13\", \"goal\": \"normalized_root_mean_squared_error_min\", \"run_name\": \"RobustScaler, DecisionTree\", \"run_properties\": \"copy=True, quantile_range=[10, 90], with_centering=False,\\n             with_scaling=False\", \"primary_metric\": 0.18335004, \"best_metric\": 0.11659644}, {\"run_id\": \"AutoML_7e19b30d-bcf9-441d-966f-7615b9f3735d_14\", \"run_number\": 48, \"metric\": null, \"status\": \"Completed\", \"run_type\": \"azureml.scriptrun\", \"training_percent\": \"100\", \"start_time\": \"2021-02-14T14:04:12.091426Z\", \"end_time\": \"2021-02-14T14:05:12.756926Z\", \"created_time\": \"2021-02-14T14:03:59.936955Z\", \"created_time_dt\": \"2021-02-14T14:03:59.936955Z\", \"duration\": \"0:01:12\", \"iteration\": \"14\", \"goal\": \"normalized_root_mean_squared_error_min\", \"run_name\": \"RobustScaler, DecisionTree\", \"run_properties\": \"copy=True, quantile_range=[10, 90], with_centering=False,\\n             with_scaling=False\", \"primary_metric\": 0.18998183, \"best_metric\": 0.11659644}, {\"run_id\": \"AutoML_7e19b30d-bcf9-441d-966f-7615b9f3735d_15\", \"run_number\": 49, \"metric\": null, \"status\": \"Completed\", \"run_type\": \"azureml.scriptrun\", \"training_percent\": \"100\", \"start_time\": \"2021-02-14T14:05:26.760611Z\", \"end_time\": \"2021-02-14T14:06:21.366084Z\", \"created_time\": \"2021-02-14T14:05:15.209397Z\", \"created_time_dt\": \"2021-02-14T14:05:15.209397Z\", \"duration\": \"0:01:06\", \"iteration\": \"15\", \"goal\": \"normalized_root_mean_squared_error_min\", \"run_name\": \"StandardScalerWrapper, DecisionTree\", \"run_properties\": \"<azureml.automl.runtime.shared.model_wrappers.StandardScalerWrapper object at 0x7f64628161d0\", \"primary_metric\": 0.18613796, \"best_metric\": 0.11659644}, {\"run_id\": \"AutoML_7e19b30d-bcf9-441d-966f-7615b9f3735d_16\", \"run_number\": 50, \"metric\": null, \"status\": \"Completed\", \"run_type\": \"azureml.scriptrun\", \"training_percent\": \"100\", \"start_time\": \"2021-02-14T14:06:40.645602Z\", \"end_time\": \"2021-02-14T14:07:35.722326Z\", \"created_time\": \"2021-02-14T14:06:25.424521Z\", \"created_time_dt\": \"2021-02-14T14:06:25.424521Z\", \"duration\": \"0:01:10\", \"iteration\": \"16\", \"goal\": \"normalized_root_mean_squared_error_min\", \"run_name\": \"MinMaxScaler, DecisionTree\", \"run_properties\": \"copy=True, feature_range=(0, 1\", \"primary_metric\": 0.18336931, \"best_metric\": 0.11659644}, {\"run_id\": \"AutoML_7e19b30d-bcf9-441d-966f-7615b9f3735d_17\", \"run_number\": 51, \"metric\": null, \"status\": \"Completed\", \"run_type\": \"azureml.scriptrun\", \"training_percent\": \"100\", \"start_time\": \"2021-02-14T14:07:51.919243Z\", \"end_time\": \"2021-02-14T14:08:50.097889Z\", \"created_time\": \"2021-02-14T14:07:38.546701Z\", \"created_time_dt\": \"2021-02-14T14:07:38.546701Z\", \"duration\": \"0:01:11\", \"iteration\": \"17\", \"goal\": \"normalized_root_mean_squared_error_min\", \"run_name\": \"MinMaxScaler, DecisionTree\", \"run_properties\": \"copy=True, feature_range=(0, 1\", \"primary_metric\": 0.17228636, \"best_metric\": 0.11659644}, {\"run_id\": \"AutoML_7e19b30d-bcf9-441d-966f-7615b9f3735d_18\", \"run_number\": 52, \"metric\": null, \"status\": \"Completed\", \"run_type\": \"azureml.scriptrun\", \"training_percent\": \"100\", \"start_time\": \"2021-02-14T14:09:03.978738Z\", \"end_time\": \"2021-02-14T14:09:58.057685Z\", \"created_time\": \"2021-02-14T14:08:52.659445Z\", \"created_time_dt\": \"2021-02-14T14:08:52.659445Z\", \"duration\": \"0:01:05\", \"iteration\": \"18\", \"goal\": \"normalized_root_mean_squared_error_min\", \"run_name\": \"RobustScaler, DecisionTree\", \"run_properties\": \"copy=True, quantile_range=[25, 75], with_centering=True,\\n             with_scaling=False\", \"primary_metric\": 0.18667273, \"best_metric\": 0.11659644}, {\"run_id\": \"AutoML_7e19b30d-bcf9-441d-966f-7615b9f3735d_19\", \"run_number\": 53, \"metric\": null, \"status\": \"Completed\", \"run_type\": \"azureml.scriptrun\", \"training_percent\": \"100\", \"start_time\": \"2021-02-14T14:10:12.22897Z\", \"end_time\": \"2021-02-14T14:11:10.405982Z\", \"created_time\": \"2021-02-14T14:10:00.134742Z\", \"created_time_dt\": \"2021-02-14T14:10:00.134742Z\", \"duration\": \"0:01:10\", \"iteration\": \"19\", \"goal\": \"normalized_root_mean_squared_error_min\", \"run_name\": \"StandardScalerWrapper, DecisionTree\", \"run_properties\": \"<azureml.automl.runtime.shared.model_wrappers.StandardScalerWrapper object at 0x7fdfbc8319b0\", \"primary_metric\": 0.18732208, \"best_metric\": 0.11659644}, {\"run_id\": \"AutoML_7e19b30d-bcf9-441d-966f-7615b9f3735d_20\", \"run_number\": 54, \"metric\": null, \"status\": \"Completed\", \"run_type\": \"azureml.scriptrun\", \"training_percent\": \"100\", \"start_time\": \"2021-02-14T14:11:23.540627Z\", \"end_time\": \"2021-02-14T14:12:27.264929Z\", \"created_time\": \"2021-02-14T14:11:12.625906Z\", \"created_time_dt\": \"2021-02-14T14:11:12.625906Z\", \"duration\": \"0:01:14\", \"iteration\": \"20\", \"goal\": \"normalized_root_mean_squared_error_min\", \"run_name\": \"MinMaxScaler, DecisionTree\", \"run_properties\": \"copy=True, feature_range=(0, 1\", \"primary_metric\": 0.18367356, \"best_metric\": 0.11659644}, {\"run_id\": \"AutoML_7e19b30d-bcf9-441d-966f-7615b9f3735d_21\", \"run_number\": 55, \"metric\": null, \"status\": \"Completed\", \"run_type\": \"azureml.scriptrun\", \"training_percent\": \"100\", \"start_time\": \"2021-02-14T14:12:44.896393Z\", \"end_time\": \"2021-02-14T14:13:37.65058Z\", \"created_time\": \"2021-02-14T14:12:31.337733Z\", \"created_time_dt\": \"2021-02-14T14:12:31.337733Z\", \"duration\": \"0:01:06\", \"iteration\": \"21\", \"goal\": \"normalized_root_mean_squared_error_min\", \"run_name\": \"StandardScalerWrapper, LassoLars\", \"run_properties\": \"<azureml.automl.runtime.shared.model_wrappers.StandardScalerWrapper object at 0x7fcb744e10f0\", \"primary_metric\": 0.13176673, \"best_metric\": 0.11659644}, {\"run_id\": \"AutoML_7e19b30d-bcf9-441d-966f-7615b9f3735d_22\", \"run_number\": 56, \"metric\": null, \"status\": \"Completed\", \"run_type\": \"azureml.scriptrun\", \"training_percent\": \"100\", \"start_time\": \"2021-02-14T14:13:55.402843Z\", \"end_time\": \"2021-02-14T14:14:51.95983Z\", \"created_time\": \"2021-02-14T14:13:40.934481Z\", \"created_time_dt\": \"2021-02-14T14:13:40.934481Z\", \"duration\": \"0:01:11\", \"iteration\": \"22\", \"goal\": \"normalized_root_mean_squared_error_min\", \"run_name\": \"StandardScalerWrapper, DecisionTree\", \"run_properties\": \"<azureml.automl.runtime.shared.model_wrappers.StandardScalerWrapper object at 0x7f95850619e8\", \"primary_metric\": 0.17788553, \"best_metric\": 0.11659644}, {\"run_id\": \"AutoML_7e19b30d-bcf9-441d-966f-7615b9f3735d_23\", \"run_number\": 57, \"metric\": null, \"status\": \"Completed\", \"run_type\": \"azureml.scriptrun\", \"training_percent\": \"100\", \"start_time\": \"2021-02-14T14:15:06.916365Z\", \"end_time\": \"2021-02-14T14:16:21.128241Z\", \"created_time\": \"2021-02-14T14:14:54.822163Z\", \"created_time_dt\": \"2021-02-14T14:14:54.822163Z\", \"duration\": \"0:01:26\", \"iteration\": \"23\", \"goal\": \"normalized_root_mean_squared_error_min\", \"run_name\": \"MinMaxScaler, RandomForest\", \"run_properties\": \"copy=True, feature_range=(0, 1\", \"primary_metric\": 0.18992363, \"best_metric\": 0.11659644}, {\"run_id\": \"AutoML_7e19b30d-bcf9-441d-966f-7615b9f3735d_24\", \"run_number\": 58, \"metric\": null, \"status\": \"Completed\", \"run_type\": \"azureml.scriptrun\", \"training_percent\": \"100\", \"start_time\": \"2021-02-14T14:16:36.459552Z\", \"end_time\": \"2021-02-14T14:19:24.890611Z\", \"created_time\": \"2021-02-14T14:16:23.863748Z\", \"created_time_dt\": \"2021-02-14T14:16:23.863748Z\", \"duration\": \"0:03:01\", \"iteration\": \"24\", \"goal\": \"normalized_root_mean_squared_error_min\", \"run_name\": \"MinMaxScaler, RandomForest\", \"run_properties\": \"copy=True, feature_range=(0, 1\", \"primary_metric\": 0.1649256, \"best_metric\": 0.11659644}, {\"run_id\": \"AutoML_7e19b30d-bcf9-441d-966f-7615b9f3735d_25\", \"run_number\": 59, \"metric\": null, \"status\": \"Completed\", \"run_type\": \"azureml.scriptrun\", \"training_percent\": \"100\", \"start_time\": \"2021-02-14T14:19:38.415182Z\", \"end_time\": \"2021-02-14T14:21:07.947359Z\", \"created_time\": \"2021-02-14T14:19:25.960326Z\", \"created_time_dt\": \"2021-02-14T14:19:25.960326Z\", \"duration\": \"0:01:41\", \"iteration\": \"25\", \"goal\": \"normalized_root_mean_squared_error_min\", \"run_name\": \"VotingEnsemble\", \"run_properties\": \"estimators=[('0',\\n                                          Pipeline(memory=None,\\n                                                   steps=[('maxabsscaler',\\n                                                           MaxAbsScaler(copy=True\", \"primary_metric\": 0.11411821, \"best_metric\": 0.11411821}, {\"run_id\": \"AutoML_7e19b30d-bcf9-441d-966f-7615b9f3735d_26\", \"run_number\": 60, \"metric\": null, \"status\": \"Completed\", \"run_type\": \"azureml.scriptrun\", \"training_percent\": \"100\", \"start_time\": \"2021-02-14T14:21:21.73594Z\", \"end_time\": \"2021-02-14T14:22:46.24401Z\", \"created_time\": \"2021-02-14T14:21:08.939127Z\", \"created_time_dt\": \"2021-02-14T14:21:08.939127Z\", \"duration\": \"0:01:37\", \"iteration\": \"26\", \"goal\": \"normalized_root_mean_squared_error_min\", \"run_name\": \"StackEnsemble\", \"run_properties\": \"base_learners=[('0',\\n                                       Pipeline(memory=None,\\n                                                steps=[('maxabsscaler',\\n                                                        MaxAbsScaler(copy=True\", \"primary_metric\": 0.11289631, \"best_metric\": 0.11289631}], \"children_metrics\": {\"categories\": [0], \"series\": {\"root_mean_squared_error\": [{\"categories\": [\"0\", \"1\", \"2\", \"3\", \"4\", \"5\", \"6\", \"7\", \"8\", \"9\", \"10\", \"11\", \"12\", \"13\", \"14\", \"15\", \"16\", \"17\", \"18\", \"19\", \"20\", \"21\", \"22\", \"23\", \"24\", \"25\", \"26\"], \"mode\": \"markers\", \"name\": \"root_mean_squared_error\", \"stepped\": false, \"type\": \"scatter\", \"data\": [10.260486493815957, 13.36663543736731, 11.637158329149756, 15.162720173387475, 16.485041920645177, 15.656116766450538, 13.388274677035986, 17.0713250142354, 13.628464703197384, 17.468842407986177, 15.923453859798608, 15.501360573577717, 11.88547273084278, 16.134803882989626, 16.718401110585056, 16.380140908375775, 16.136499378314976, 15.161199274527359, 16.427200633458728, 16.484342774680552, 16.163273596007528, 11.595471956047039, 15.65392659297687, 16.713279814262517, 14.5134523604771, 10.042402879312599, 9.934875642181009]}, {\"categories\": [\"0\", \"1\", \"2\", \"3\", \"4\", \"5\", \"6\", \"7\", \"8\", \"9\", \"10\", \"11\", \"12\", \"13\", \"14\", \"15\", \"16\", \"17\", \"18\", \"19\", \"20\", \"21\", \"22\", \"23\", \"24\", \"25\", \"26\"], \"mode\": \"lines\", \"name\": \"root_mean_squared_error_min\", \"stepped\": true, \"type\": \"scatter\", \"data\": [10.260486493815957, 10.260486493815957, 10.260486493815957, 10.260486493815957, 10.260486493815957, 10.260486493815957, 10.260486493815957, 10.260486493815957, 10.260486493815957, 10.260486493815957, 10.260486493815957, 10.260486493815957, 10.260486493815957, 10.260486493815957, 10.260486493815957, 10.260486493815957, 10.260486493815957, 10.260486493815957, 10.260486493815957, 10.260486493815957, 10.260486493815957, 10.260486493815957, 10.260486493815957, 10.260486493815957, 10.260486493815957, 10.042402879312599, 9.934875642181009]}], \"mean_absolute_percentage_error\": [{\"categories\": [\"0\", \"1\", \"2\", \"3\", \"4\", \"5\", \"6\", \"7\", \"8\", \"9\", \"10\", \"11\", \"12\", \"13\", \"14\", \"15\", \"16\", \"17\", \"18\", \"19\", \"20\", \"21\", \"22\", \"23\", \"24\", \"25\", \"26\"], \"mode\": \"markers\", \"name\": \"mean_absolute_percentage_error\", \"stepped\": false, \"type\": \"scatter\", \"data\": [35.78465016559672, 60.969709251435766, 67.50627909553492, 67.6957279303824, 83.14579158491395, 72.96826260615939, 65.85225669872645, 91.23389115812091, 65.47179295072502, 97.61899782102611, 75.68857549703938, 70.8950461223728, 67.87215821958095, 78.97927539820094, 85.93179352020493, 82.2842474925267, 78.98134536143736, 66.20542678136181, 81.9038840489408, 83.14472516627912, 80.06828247935043, 67.59259622930904, 72.9659501822368, 96.61520150589986, 68.24280547191657, 36.03268005447017, 44.277188865881286]}, {\"categories\": [\"0\", \"1\", \"2\", \"3\", \"4\", \"5\", \"6\", \"7\", \"8\", \"9\", \"10\", \"11\", \"12\", \"13\", \"14\", \"15\", \"16\", \"17\", \"18\", \"19\", \"20\", \"21\", \"22\", \"23\", \"24\", \"25\", \"26\"], \"mode\": \"lines\", \"name\": \"mean_absolute_percentage_error_min\", \"stepped\": true, \"type\": \"scatter\", \"data\": [35.78465016559672, 35.78465016559672, 35.78465016559672, 35.78465016559672, 35.78465016559672, 35.78465016559672, 35.78465016559672, 35.78465016559672, 35.78465016559672, 35.78465016559672, 35.78465016559672, 35.78465016559672, 35.78465016559672, 35.78465016559672, 35.78465016559672, 35.78465016559672, 35.78465016559672, 35.78465016559672, 35.78465016559672, 35.78465016559672, 35.78465016559672, 35.78465016559672, 35.78465016559672, 35.78465016559672, 35.78465016559672, 35.78465016559672, 35.78465016559672]}], \"root_mean_squared_log_error\": [{\"categories\": [\"0\", \"1\", \"2\", \"3\", \"4\", \"5\", \"6\", \"7\", \"8\", \"9\", \"10\", \"11\", \"12\", \"13\", \"14\", \"15\", \"16\", \"17\", \"18\", \"19\", \"20\", \"21\", \"22\", \"23\", \"24\", \"25\", \"26\"], \"mode\": \"markers\", \"name\": \"root_mean_squared_log_error\", \"stepped\": false, \"type\": \"scatter\", \"data\": [NaN, NaN, NaN, 0.5941963994230284, 0.6591042633362412, 0.6174673321901609, NaN, 0.6922708195204015, NaN, 0.7179037772099532, 0.6286181177543984, 0.6095155262455668, NaN, 0.6405339333256385, 0.6698558644964985, 0.6574456425885828, 0.6405525827520238, 0.589056095825651, 0.6548815918212172, 0.6590980359486404, 0.646709592175805, NaN, 0.617440607164151, 0.7058864554255121, 0.5885317535774043, NaN, NaN]}, {\"categories\": [\"0\", \"1\", \"2\", \"3\", \"4\", \"5\", \"6\", \"7\", \"8\", \"9\", \"10\", \"11\", \"12\", \"13\", \"14\", \"15\", \"16\", \"17\", \"18\", \"19\", \"20\", \"21\", \"22\", \"23\", \"24\", \"25\", \"26\"], \"mode\": \"lines\", \"name\": \"root_mean_squared_log_error_min\", \"stepped\": true, \"type\": \"scatter\", \"data\": [NaN, NaN, NaN, 0.5941963994230284, 0.5941963994230284, 0.5941963994230284, 0.5941963994230284, 0.5941963994230284, 0.5941963994230284, 0.5941963994230284, 0.5941963994230284, 0.5941963994230284, 0.5941963994230284, 0.5941963994230284, 0.5941963994230284, 0.5941963994230284, 0.5941963994230284, 0.589056095825651, 0.589056095825651, 0.589056095825651, 0.589056095825651, 0.589056095825651, 0.589056095825651, 0.589056095825651, 0.5885317535774043, 0.5885317535774043, 0.5885317535774043]}], \"normalized_root_mean_squared_error\": [{\"categories\": [\"0\", \"1\", \"2\", \"3\", \"4\", \"5\", \"6\", \"7\", \"8\", \"9\", \"10\", \"11\", \"12\", \"13\", \"14\", \"15\", \"16\", \"17\", \"18\", \"19\", \"20\", \"21\", \"22\", \"23\", \"24\", \"25\", \"26\"], \"mode\": \"markers\", \"name\": \"normalized_root_mean_squared_error\", \"stepped\": false, \"type\": \"scatter\", \"data\": [0.11659643742972678, 0.15189358451553764, 0.13224043555851997, 0.1723036383339486, 0.18733002182551337, 0.1779104178005743, 0.15213948496631802, 0.19399232970722044, 0.15486891708178843, 0.19850957281802473, 0.1809483393158933, 0.1761518246997468, 0.13506219012321338, 0.18335004412488212, 0.18998183080210293, 0.18613796486790654, 0.18336931111721563, 0.17228635539235637, 0.18667273447112193, 0.1873220769850063, 0.18367356359099465, 0.13176672677326182, 0.17788552946564623, 0.18992363425298314, 0.1649255950054216, 0.11411821453764318, 0.1128963141156933]}, {\"categories\": [\"0\", \"1\", \"2\", \"3\", \"4\", \"5\", \"6\", \"7\", \"8\", \"9\", \"10\", \"11\", \"12\", \"13\", \"14\", \"15\", \"16\", \"17\", \"18\", \"19\", \"20\", \"21\", \"22\", \"23\", \"24\", \"25\", \"26\"], \"mode\": \"lines\", \"name\": \"normalized_root_mean_squared_error_min\", \"stepped\": true, \"type\": \"scatter\", \"data\": [0.11659643742972678, 0.11659643742972678, 0.11659643742972678, 0.11659643742972678, 0.11659643742972678, 0.11659643742972678, 0.11659643742972678, 0.11659643742972678, 0.11659643742972678, 0.11659643742972678, 0.11659643742972678, 0.11659643742972678, 0.11659643742972678, 0.11659643742972678, 0.11659643742972678, 0.11659643742972678, 0.11659643742972678, 0.11659643742972678, 0.11659643742972678, 0.11659643742972678, 0.11659643742972678, 0.11659643742972678, 0.11659643742972678, 0.11659643742972678, 0.11659643742972678, 0.11411821453764318, 0.1128963141156933]}], \"explained_variance\": [{\"categories\": [\"0\", \"1\", \"2\", \"3\", \"4\", \"5\", \"6\", \"7\", \"8\", \"9\", \"10\", \"11\", \"12\", \"13\", \"14\", \"15\", \"16\", \"17\", \"18\", \"19\", \"20\", \"21\", \"22\", \"23\", \"24\", \"25\", \"26\"], \"mode\": \"markers\", \"name\": \"explained_variance\", \"stepped\": false, \"type\": \"scatter\", \"data\": [0.7896281515186281, 0.6430937739154704, 0.7294376617587526, 0.5404430035534825, 0.45704676557189944, 0.5103123769226222, 0.6419146770542239, 0.4178102132075983, 0.6289591570090278, 0.39039824177846083, 0.49349064644, 0.5198888760698059, 0.7177684905951258, 0.47991440142427627, 0.44150629397662583, 0.4639682591240423, 0.47980549702407255, 0.5406687547846205, 0.4608787597370972, 0.4570921942498732, 0.47812927680524975, 0.73137340561884, 0.5104471599207078, 0.44204327751480943, 0.5791246378015169, 0.798489469550985, 0.8027929409300066]}, {\"categories\": [\"0\", \"1\", \"2\", \"3\", \"4\", \"5\", \"6\", \"7\", \"8\", \"9\", \"10\", \"11\", \"12\", \"13\", \"14\", \"15\", \"16\", \"17\", \"18\", \"19\", \"20\", \"21\", \"22\", \"23\", \"24\", \"25\", \"26\"], \"mode\": \"lines\", \"name\": \"explained_variance_max\", \"stepped\": true, \"type\": \"scatter\", \"data\": [0.7896281515186281, 0.7896281515186281, 0.7896281515186281, 0.7896281515186281, 0.7896281515186281, 0.7896281515186281, 0.7896281515186281, 0.7896281515186281, 0.7896281515186281, 0.7896281515186281, 0.7896281515186281, 0.7896281515186281, 0.7896281515186281, 0.7896281515186281, 0.7896281515186281, 0.7896281515186281, 0.7896281515186281, 0.7896281515186281, 0.7896281515186281, 0.7896281515186281, 0.7896281515186281, 0.7896281515186281, 0.7896281515186281, 0.7896281515186281, 0.7896281515186281, 0.798489469550985, 0.8027929409300066]}], \"normalized_root_mean_squared_log_error\": [{\"categories\": [\"0\", \"1\", \"2\", \"3\", \"4\", \"5\", \"6\", \"7\", \"8\", \"9\", \"10\", \"11\", \"12\", \"13\", \"14\", \"15\", \"16\", \"17\", \"18\", \"19\", \"20\", \"21\", \"22\", \"23\", \"24\", \"25\", \"26\"], \"mode\": \"markers\", \"name\": \"normalized_root_mean_squared_log_error\", \"stepped\": false, \"type\": \"scatter\", \"data\": [NaN, NaN, NaN, 0.13237793184358287, 0.146838417961572, 0.13756234217453628, NaN, 0.15422742287357816, NaN, 0.1599380564776724, 0.14004656781585348, 0.13579080059941226, NaN, 0.14270123052179043, 0.14923371138136377, 0.14646890245373473, 0.14270538533070098, 0.13123275028420336, 0.14589767089114805, 0.14683703059420963, 0.14407707350426283, NaN, 0.1375563882446991, 0.1572607797293315, 0.13111593479614503, NaN, NaN]}, {\"categories\": [\"0\", \"1\", \"2\", \"3\", \"4\", \"5\", \"6\", \"7\", \"8\", \"9\", \"10\", \"11\", \"12\", \"13\", \"14\", \"15\", \"16\", \"17\", \"18\", \"19\", \"20\", \"21\", \"22\", \"23\", \"24\", \"25\", \"26\"], \"mode\": \"lines\", \"name\": \"normalized_root_mean_squared_log_error_min\", \"stepped\": true, \"type\": \"scatter\", \"data\": [NaN, NaN, NaN, 0.13237793184358287, 0.13237793184358287, 0.13237793184358287, 0.13237793184358287, 0.13237793184358287, 0.13237793184358287, 0.13237793184358287, 0.13237793184358287, 0.13237793184358287, 0.13237793184358287, 0.13237793184358287, 0.13237793184358287, 0.13237793184358287, 0.13237793184358287, 0.13123275028420336, 0.13123275028420336, 0.13123275028420336, 0.13123275028420336, 0.13123275028420336, 0.13123275028420336, 0.13123275028420336, 0.13111593479614503, 0.13111593479614503, 0.13111593479614503]}], \"median_absolute_error\": [{\"categories\": [\"0\", \"1\", \"2\", \"3\", \"4\", \"5\", \"6\", \"7\", \"8\", \"9\", \"10\", \"11\", \"12\", \"13\", \"14\", \"15\", \"16\", \"17\", \"18\", \"19\", \"20\", \"21\", \"22\", \"23\", \"24\", \"25\", \"26\"], \"mode\": \"markers\", \"name\": \"median_absolute_error\", \"stepped\": false, \"type\": \"scatter\", \"data\": [6.081836947724019, 9.111036777496338, 9.14340369558597, 9.341648520473983, 10.471966478296341, 9.713673242677975, 9.915377957400882, 11.192532654099391, 10.10422020118109, 11.875924801785246, 10.081285193397035, 9.492245662491138, 9.254179914076627, 10.148989682345782, 10.820072953828639, 10.467963276848737, 10.148989682345782, 9.156199221158566, 10.47413536967615, 10.471966478296341, 10.22595175895769, 9.102740481011006, 9.713673242677975, 11.484113103731515, 9.044510784069066, 6.140300274275194, 6.460770442727531]}, {\"categories\": [\"0\", \"1\", \"2\", \"3\", \"4\", \"5\", \"6\", \"7\", \"8\", \"9\", \"10\", \"11\", \"12\", \"13\", \"14\", \"15\", \"16\", \"17\", \"18\", \"19\", \"20\", \"21\", \"22\", \"23\", \"24\", \"25\", \"26\"], \"mode\": \"lines\", \"name\": \"median_absolute_error_min\", \"stepped\": true, \"type\": \"scatter\", \"data\": [6.081836947724019, 6.081836947724019, 6.081836947724019, 6.081836947724019, 6.081836947724019, 6.081836947724019, 6.081836947724019, 6.081836947724019, 6.081836947724019, 6.081836947724019, 6.081836947724019, 6.081836947724019, 6.081836947724019, 6.081836947724019, 6.081836947724019, 6.081836947724019, 6.081836947724019, 6.081836947724019, 6.081836947724019, 6.081836947724019, 6.081836947724019, 6.081836947724019, 6.081836947724019, 6.081836947724019, 6.081836947724019, 6.081836947724019, 6.081836947724019]}], \"mean_absolute_error\": [{\"categories\": [\"0\", \"1\", \"2\", \"3\", \"4\", \"5\", \"6\", \"7\", \"8\", \"9\", \"10\", \"11\", \"12\", \"13\", \"14\", \"15\", \"16\", \"17\", \"18\", \"19\", \"20\", \"21\", \"22\", \"23\", \"24\", \"25\", \"26\"], \"mode\": \"markers\", \"name\": \"mean_absolute_error\", \"stepped\": false, \"type\": \"scatter\", \"data\": [7.818736308295942, 10.605067522393922, 9.725575807662532, 11.693359887740176, 12.918464169972074, 12.114141449247143, 11.039488498702966, 13.522417625859394, 11.225541999814146, 13.915584481869956, 12.39213098181474, 11.959450410145225, 9.91876849454123, 12.563641905826447, 13.134792206779528, 12.85036885696122, 12.564986058718498, 11.635746652569214, 12.858662278780008, 12.917771679561167, 12.623865019199107, 9.69049169149274, 12.112639851900632, 13.378285485991679, 11.22888538286648, 7.7151387388267665, 7.821217728723174]}, {\"categories\": [\"0\", \"1\", \"2\", \"3\", \"4\", \"5\", \"6\", \"7\", \"8\", \"9\", \"10\", \"11\", \"12\", \"13\", \"14\", \"15\", \"16\", \"17\", \"18\", \"19\", \"20\", \"21\", \"22\", \"23\", \"24\", \"25\", \"26\"], \"mode\": \"lines\", \"name\": \"mean_absolute_error_min\", \"stepped\": true, \"type\": \"scatter\", \"data\": [7.818736308295942, 7.818736308295942, 7.818736308295942, 7.818736308295942, 7.818736308295942, 7.818736308295942, 7.818736308295942, 7.818736308295942, 7.818736308295942, 7.818736308295942, 7.818736308295942, 7.818736308295942, 7.818736308295942, 7.818736308295942, 7.818736308295942, 7.818736308295942, 7.818736308295942, 7.818736308295942, 7.818736308295942, 7.818736308295942, 7.818736308295942, 7.818736308295942, 7.818736308295942, 7.818736308295942, 7.818736308295942, 7.7151387388267665, 7.7151387388267665]}], \"r2_score\": [{\"categories\": [\"0\", \"1\", \"2\", \"3\", \"4\", \"5\", \"6\", \"7\", \"8\", \"9\", \"10\", \"11\", \"12\", \"13\", \"14\", \"15\", \"16\", \"17\", \"18\", \"19\", \"20\", \"21\", \"22\", \"23\", \"24\", \"25\", \"26\"], \"mode\": \"markers\", \"name\": \"r2_score\", \"stepped\": false, \"type\": \"scatter\", \"data\": [0.7895846500140877, 0.6429672472553237, 0.729340225149705, 0.5403722383843272, 0.45694144691000294, 0.5101636976701714, 0.6418105704176224, 0.41762174930280305, 0.6288481757088935, 0.390167528788227, 0.49327106869899795, 0.5197818583812479, 0.7176720419975343, 0.47972711792762845, 0.4413613917912874, 0.4638178597632507, 0.47961673955013656, 0.5405290056812255, 0.4607254563150732, 0.4569876157415333, 0.47791183494313944, 0.731277293523801, 0.5102995225655604, 0.441812411064325, 0.5790093058057335, 0.7984396989713728, 0.8027310602126292]}, {\"categories\": [\"0\", \"1\", \"2\", \"3\", \"4\", \"5\", \"6\", \"7\", \"8\", \"9\", \"10\", \"11\", \"12\", \"13\", \"14\", \"15\", \"16\", \"17\", \"18\", \"19\", \"20\", \"21\", \"22\", \"23\", \"24\", \"25\", \"26\"], \"mode\": \"lines\", \"name\": \"r2_score_max\", \"stepped\": true, \"type\": \"scatter\", \"data\": [0.7895846500140877, 0.7895846500140877, 0.7895846500140877, 0.7895846500140877, 0.7895846500140877, 0.7895846500140877, 0.7895846500140877, 0.7895846500140877, 0.7895846500140877, 0.7895846500140877, 0.7895846500140877, 0.7895846500140877, 0.7895846500140877, 0.7895846500140877, 0.7895846500140877, 0.7895846500140877, 0.7895846500140877, 0.7895846500140877, 0.7895846500140877, 0.7895846500140877, 0.7895846500140877, 0.7895846500140877, 0.7895846500140877, 0.7895846500140877, 0.7895846500140877, 0.7984396989713728, 0.8027310602126292]}], \"normalized_mean_absolute_error\": [{\"categories\": [\"0\", \"1\", \"2\", \"3\", \"4\", \"5\", \"6\", \"7\", \"8\", \"9\", \"10\", \"11\", \"12\", \"13\", \"14\", \"15\", \"16\", \"17\", \"18\", \"19\", \"20\", \"21\", \"22\", \"23\", \"24\", \"25\", \"26\"], \"mode\": \"markers\", \"name\": \"normalized_mean_absolute_error\", \"stepped\": false, \"type\": \"scatter\", \"data\": [0.0888492762306357, 0.12051213093629456, 0.11051790690525605, 0.1328790896334111, 0.14680072920422813, 0.13766069828689934, 0.12544873293980643, 0.1536638366574931, 0.1275629772706153, 0.15813164183943135, 0.14081967024789474, 0.1359028455698321, 0.11271327834705942, 0.1427686580207551, 0.14925900234976736, 0.14602691882910476, 0.14278393248543747, 0.1322243937791956, 0.14612116225886376, 0.1467928599950133, 0.14345301158180804, 0.11011922376696295, 0.13764363468068896, 0.15202597143172364, 0.12760097025984635, 0.08767203112303144, 0.08887747419003607]}, {\"categories\": [\"0\", \"1\", \"2\", \"3\", \"4\", \"5\", \"6\", \"7\", \"8\", \"9\", \"10\", \"11\", \"12\", \"13\", \"14\", \"15\", \"16\", \"17\", \"18\", \"19\", \"20\", \"21\", \"22\", \"23\", \"24\", \"25\", \"26\"], \"mode\": \"lines\", \"name\": \"normalized_mean_absolute_error_min\", \"stepped\": true, \"type\": \"scatter\", \"data\": [0.0888492762306357, 0.0888492762306357, 0.0888492762306357, 0.0888492762306357, 0.0888492762306357, 0.0888492762306357, 0.0888492762306357, 0.0888492762306357, 0.0888492762306357, 0.0888492762306357, 0.0888492762306357, 0.0888492762306357, 0.0888492762306357, 0.0888492762306357, 0.0888492762306357, 0.0888492762306357, 0.0888492762306357, 0.0888492762306357, 0.0888492762306357, 0.0888492762306357, 0.0888492762306357, 0.0888492762306357, 0.0888492762306357, 0.0888492762306357, 0.0888492762306357, 0.08767203112303144, 0.08767203112303144]}], \"spearman_correlation\": [{\"categories\": [\"0\", \"1\", \"2\", \"3\", \"4\", \"5\", \"6\", \"7\", \"8\", \"9\", \"10\", \"11\", \"12\", \"13\", \"14\", \"15\", \"16\", \"17\", \"18\", \"19\", \"20\", \"21\", \"22\", \"23\", \"24\", \"25\", \"26\"], \"mode\": \"markers\", \"name\": \"spearman_correlation\", \"stepped\": false, \"type\": \"scatter\", \"data\": [0.9047396780684392, 0.8450016155791236, 0.9607872729714562, 0.7269327453638106, 0.6619972536383281, 0.7045340028619205, 0.8873165854714982, 0.6322603519697383, 0.8859340868522028, 0.6064934637252037, 0.6901795559857377, 0.7115552515521467, 0.9395524325987898, 0.6817112240526315, 0.6458378431766716, 0.6694782245757416, 0.6816113992506831, 0.7282208784048348, 0.6649764527304735, 0.662055704806047, 0.6807027872630961, 0.9609433506509644, 0.7046412309813528, 0.6655513215399267, 0.7597621074330838, 0.9242794993179704, 0.925204822870573]}, {\"categories\": [\"0\", \"1\", \"2\", \"3\", \"4\", \"5\", \"6\", \"7\", \"8\", \"9\", \"10\", \"11\", \"12\", \"13\", \"14\", \"15\", \"16\", \"17\", \"18\", \"19\", \"20\", \"21\", \"22\", \"23\", \"24\", \"25\", \"26\"], \"mode\": \"lines\", \"name\": \"spearman_correlation_max\", \"stepped\": true, \"type\": \"scatter\", \"data\": [0.9047396780684392, 0.9047396780684392, 0.9607872729714562, 0.9607872729714562, 0.9607872729714562, 0.9607872729714562, 0.9607872729714562, 0.9607872729714562, 0.9607872729714562, 0.9607872729714562, 0.9607872729714562, 0.9607872729714562, 0.9607872729714562, 0.9607872729714562, 0.9607872729714562, 0.9607872729714562, 0.9607872729714562, 0.9607872729714562, 0.9607872729714562, 0.9607872729714562, 0.9607872729714562, 0.9609433506509644, 0.9609433506509644, 0.9609433506509644, 0.9609433506509644, 0.9609433506509644, 0.9609433506509644]}], \"normalized_median_absolute_error\": [{\"categories\": [\"0\", \"1\", \"2\", \"3\", \"4\", \"5\", \"6\", \"7\", \"8\", \"9\", \"10\", \"11\", \"12\", \"13\", \"14\", \"15\", \"16\", \"17\", \"18\", \"19\", \"20\", \"21\", \"22\", \"23\", \"24\", \"25\", \"26\"], \"mode\": \"markers\", \"name\": \"normalized_median_absolute_error\", \"stepped\": false, \"type\": \"scatter\", \"data\": [0.06911178349686387, 0.10353450883518567, 0.10390231472256786, 0.10615509682356798, 0.11899961907154935, 0.11038265048497697, 0.11267474951591909, 0.12718787106931123, 0.11482068410433058, 0.13495369092937776, 0.11456005901587538, 0.10786642798285384, 0.10516113538723441, 0.1153294282084748, 0.12295537447532542, 0.11895412814600834, 0.1153294282084748, 0.10404771842225644, 0.1190242655645017, 0.11899961907154935, 0.11620399726088282, 0.10344023273876143, 0.11038265048497697, 0.1305012852696763, 0.10277853163714849, 0.06977613948039993, 0.0734178459400856]}, {\"categories\": [\"0\", \"1\", \"2\", \"3\", \"4\", \"5\", \"6\", \"7\", \"8\", \"9\", \"10\", \"11\", \"12\", \"13\", \"14\", \"15\", \"16\", \"17\", \"18\", \"19\", \"20\", \"21\", \"22\", \"23\", \"24\", \"25\", \"26\"], \"mode\": \"lines\", \"name\": \"normalized_median_absolute_error_min\", \"stepped\": true, \"type\": \"scatter\", \"data\": [0.06911178349686387, 0.06911178349686387, 0.06911178349686387, 0.06911178349686387, 0.06911178349686387, 0.06911178349686387, 0.06911178349686387, 0.06911178349686387, 0.06911178349686387, 0.06911178349686387, 0.06911178349686387, 0.06911178349686387, 0.06911178349686387, 0.06911178349686387, 0.06911178349686387, 0.06911178349686387, 0.06911178349686387, 0.06911178349686387, 0.06911178349686387, 0.06911178349686387, 0.06911178349686387, 0.06911178349686387, 0.06911178349686387, 0.06911178349686387, 0.06911178349686387, 0.06911178349686387, 0.06911178349686387]}]}, \"metricName\": null, \"primaryMetricName\": \"normalized_root_mean_squared_error\", \"showLegend\": false}, \"run_metrics\": [{\"name\": \"experiment_status\", \"run_id\": \"AutoML_7e19b30d-bcf9-441d-966f-7615b9f3735d\", \"categories\": [0, 1, 2, 3, 4, 5, 6, 7, 8, 9, 10, 11, 12, 13], \"series\": [{\"data\": [\"DatasetEvaluation\", \"FeaturesGeneration\", \"DatasetFeaturization\", \"DatasetFeaturizationCompleted\", \"DatasetCrossValidationSplit\", \"ModelSelection\", \"BestRunExplainModel\", \"ModelExplanationDataSetSetup\", \"PickSurrogateModel\", \"EngineeredFeatureExplanations\", \"EngineeredFeatureExplanations\", \"RawFeaturesExplanations\", \"RawFeaturesExplanations\", \"BestRunExplainModel\"]}]}, {\"name\": \"experiment_status_description\", \"run_id\": \"AutoML_7e19b30d-bcf9-441d-966f-7615b9f3735d\", \"categories\": [0, 1, 2, 3, 4, 5, 6, 7, 8, 9, 10, 11, 12, 13], \"series\": [{\"data\": [\"Gathering dataset statistics.\", \"Generating features for the dataset.\", \"Beginning to fit featurizers and featurize the dataset.\", \"Completed fit featurizers and featurizing the dataset.\", \"Generating individually featurized CV splits.\", \"Beginning model selection.\", \"Best run model explanations started\", \"Model explanations data setup completed\", \"Choosing LightGBM as the surrogate model for explanations\", \"Computation of engineered features started\", \"Computation of engineered features completed\", \"Computation of raw features started\", \"Computation of raw features completed\", \"Best run model explanations completed\"]}]}, {\"name\": \"r2_score\", \"run_id\": \"AutoML_7e19b30d-bcf9-441d-966f-7615b9f3735d\", \"categories\": [0], \"series\": [{\"data\": [0.8027310602126292]}]}, {\"name\": \"normalized_root_mean_squared_log_error\", \"run_id\": \"AutoML_7e19b30d-bcf9-441d-966f-7615b9f3735d\", \"categories\": [0], \"series\": [{\"data\": [NaN]}]}, {\"name\": \"mean_absolute_error\", \"run_id\": \"AutoML_7e19b30d-bcf9-441d-966f-7615b9f3735d\", \"categories\": [0], \"series\": [{\"data\": [7.821217728723174]}]}, {\"name\": \"normalized_root_mean_squared_error\", \"run_id\": \"AutoML_7e19b30d-bcf9-441d-966f-7615b9f3735d\", \"categories\": [0], \"series\": [{\"data\": [0.1128963141156933]}]}, {\"name\": \"normalized_mean_absolute_error\", \"run_id\": \"AutoML_7e19b30d-bcf9-441d-966f-7615b9f3735d\", \"categories\": [0], \"series\": [{\"data\": [0.08887747419003607]}]}, {\"name\": \"mean_absolute_percentage_error\", \"run_id\": \"AutoML_7e19b30d-bcf9-441d-966f-7615b9f3735d\", \"categories\": [0], \"series\": [{\"data\": [44.277188865881286]}]}, {\"name\": \"root_mean_squared_error\", \"run_id\": \"AutoML_7e19b30d-bcf9-441d-966f-7615b9f3735d\", \"categories\": [0], \"series\": [{\"data\": [9.934875642181009]}]}, {\"name\": \"spearman_correlation\", \"run_id\": \"AutoML_7e19b30d-bcf9-441d-966f-7615b9f3735d\", \"categories\": [0], \"series\": [{\"data\": [0.925204822870573]}]}, {\"name\": \"root_mean_squared_log_error\", \"run_id\": \"AutoML_7e19b30d-bcf9-441d-966f-7615b9f3735d\", \"categories\": [0], \"series\": [{\"data\": [NaN]}]}, {\"name\": \"explained_variance\", \"run_id\": \"AutoML_7e19b30d-bcf9-441d-966f-7615b9f3735d\", \"categories\": [0], \"series\": [{\"data\": [0.8027929409300066]}]}, {\"name\": \"normalized_median_absolute_error\", \"run_id\": \"AutoML_7e19b30d-bcf9-441d-966f-7615b9f3735d\", \"categories\": [0], \"series\": [{\"data\": [0.0734178459400856]}]}, {\"name\": \"median_absolute_error\", \"run_id\": \"AutoML_7e19b30d-bcf9-441d-966f-7615b9f3735d\", \"categories\": [0], \"series\": [{\"data\": [6.460770442727531]}]}], \"run_logs\": \"\\nRun is completed.\", \"graph\": {}, \"widget_settings\": {\"childWidgetDisplay\": \"popup\", \"send_telemetry\": false, \"log_level\": \"INFO\", \"sdk_version\": \"1.20.0\"}, \"loading\": false}"
     },
     "metadata": {},
     "output_type": "display_data"
    }
   ],
   "source": [
    "from azureml.widgets import RunDetails\n",
    "\n",
    "run_details = RunDetails(run_instance=autoML_remote_run)\n",
    "run_details.show()"
   ]
  },
  {
   "cell_type": "markdown",
   "metadata": {},
   "source": [
    "## Best Model\n",
    "\n",
    "Let's get the best model from the automl experiments and display all the properties of the model.\n"
   ]
  },
  {
   "cell_type": "markdown",
   "metadata": {},
   "source": [
    "### Get the best model"
   ]
  },
  {
   "cell_type": "code",
   "execution_count": 16,
   "metadata": {
    "collapsed": false,
    "gather": {
     "logged": 1598431425670
    },
    "jupyter": {
     "outputs_hidden": false,
     "source_hidden": false
    },
    "nteract": {
     "transient": {
      "deleting": false
     }
    }
   },
   "outputs": [
    {
     "name": "stderr",
     "output_type": "stream",
     "text": [
      "WARNING:root:The version of the SDK does not match the version the model was trained on.\n",
      "WARNING:root:The consistency in the result may not be guaranteed.\n",
      "WARNING:root:Package:azureml-automl-core, training version:1.21.0, current version:1.20.0\n",
      "Package:azureml-automl-runtime, training version:1.21.0, current version:1.20.0\n",
      "Package:azureml-core, training version:1.21.0.post1, current version:1.20.0\n",
      "Package:azureml-dataprep, training version:2.8.2, current version:2.7.3\n",
      "Package:azureml-dataprep-native, training version:28.0.0, current version:27.0.0\n",
      "Package:azureml-dataprep-rslex, training version:1.6.0, current version:1.5.0\n",
      "Package:azureml-dataset-runtime, training version:1.21.0, current version:1.20.0\n",
      "Package:azureml-defaults, training version:1.21.0, current version:1.20.0\n",
      "Package:azureml-interpret, training version:1.21.0, current version:1.20.0\n",
      "Package:azureml-pipeline-core, training version:1.21.0, current version:1.20.0\n",
      "Package:azureml-telemetry, training version:1.21.0, current version:1.20.0\n",
      "Package:azureml-train-automl-client, training version:1.21.0, current version:1.20.0\n",
      "Package:azureml-train-automl-runtime, training version:1.21.0, current version:1.20.0\n",
      "WARNING:root:Please ensure the version of your local conda dependencies match the version on which your model was trained in order to properly retrieve your model.\n"
     ]
    },
    {
     "name": "stdout",
     "output_type": "stream",
     "text": [
      "RegressionPipeline(pipeline=Pipeline(memory=None,\n",
      "                                     steps=[('datatransformer',\n",
      "                                             DataTransformer(enable_dnn=None,\n",
      "                                                             enable_feature_sweeping=None,\n",
      "                                                             feature_sweeping_config=None,\n",
      "                                                             feature_sweeping_timeout=None,\n",
      "                                                             featurization_config=None,\n",
      "                                                             force_text_dnn=None,\n",
      "                                                             is_cross_validation=None,\n",
      "                                                             is_onnx_compatible=None,\n",
      "                                                             logger=None,\n",
      "                                                             observer=None,\n",
      "                                                             task=None,\n",
      "                                                             working_dir=None)),\n",
      "                                            ('sta...\n",
      "                                                                                                               positive=False,\n",
      "                                                                                                               precompute='auto',\n",
      "                                                                                                               verbose=False))],\n",
      "                                                                                             verbose=False))],\n",
      "                                                                    meta_learner=ElasticNetCV(alphas=None,\n",
      "                                                                                              copy_X=True,\n",
      "                                                                                              cv=None,\n",
      "                                                                                              eps=0.001,\n",
      "                                                                                              fit_intercept=True,\n",
      "                                                                                              l1_ratio=0.5,\n",
      "                                                                                              max_iter=1000,\n",
      "                                                                                              n_alphas=100,\n",
      "                                                                                              n_jobs=None,\n",
      "                                                                                              normalize=False,\n",
      "                                                                                              positive=False,\n",
      "                                                                                              precompute='auto',\n",
      "                                                                                              random_state=None,\n",
      "                                                                                              selection='cyclic',\n",
      "                                                                                              tol=0.0001,\n",
      "                                                                                              verbose=0),\n",
      "                                                                    training_cv_folds=5))],\n",
      "                                     verbose=False),\n",
      "                   stddev=None)\n"
     ]
    }
   ],
   "source": [
    "best_run, fitted_model = autoML_remote_run.get_output()\n",
    "print(fitted_model)\n",
    "\n"
   ]
  },
  {
   "cell_type": "markdown",
   "metadata": {},
   "source": [
    "### Check model's details: "
   ]
  },
  {
   "cell_type": "code",
   "execution_count": 18,
   "metadata": {},
   "outputs": [
    {
     "data": {
      "text/plain": [
       "{'datatransformer': DataTransformer(enable_dnn=None, enable_feature_sweeping=None,\n",
       "                 feature_sweeping_config=None, feature_sweeping_timeout=None,\n",
       "                 featurization_config=None, force_text_dnn=None,\n",
       "                 is_cross_validation=None, is_onnx_compatible=None, logger=None,\n",
       "                 observer=None, task=None, working_dir=None),\n",
       " 'stackensembleregressor': StackEnsembleRegressor(base_learners=[('0',\n",
       "                                        Pipeline(memory=None,\n",
       "                                                 steps=[('maxabsscaler',\n",
       "                                                         MaxAbsScaler(copy=True)),\n",
       "                                                        ('lightgbmregressor',\n",
       "                                                         LightGBMRegressor(boosting_type='gbdt',\n",
       "                                                                           class_weight=None,\n",
       "                                                                           colsample_bytree=1.0,\n",
       "                                                                           importance_type='split',\n",
       "                                                                           learning_rate=0.1,\n",
       "                                                                           max_depth=-1,\n",
       "                                                                           min_child_samples=20,\n",
       "                                                                           min_child_weight=0.001,\n",
       "                                                                           min_split_gain=0.0,\n",
       "                                                                           n_estimators=100,\n",
       "                                                                           n_jo...\n",
       "                                                                   normalize=False,\n",
       "                                                                   positive=False,\n",
       "                                                                   precompute='auto',\n",
       "                                                                   verbose=False))],\n",
       "                                                 verbose=False))],\n",
       "                        meta_learner=ElasticNetCV(alphas=None, copy_X=True,\n",
       "                                                  cv=None, eps=0.001,\n",
       "                                                  fit_intercept=True,\n",
       "                                                  l1_ratio=0.5, max_iter=1000,\n",
       "                                                  n_alphas=100, n_jobs=None,\n",
       "                                                  normalize=False,\n",
       "                                                  positive=False,\n",
       "                                                  precompute='auto',\n",
       "                                                  random_state=None,\n",
       "                                                  selection='cyclic', tol=0.0001,\n",
       "                                                  verbose=0),\n",
       "                        training_cv_folds=5)}"
      ]
     },
     "execution_count": 18,
     "metadata": {},
     "output_type": "execute_result"
    }
   ],
   "source": [
    "fitted_model.named_steps"
   ]
  },
  {
   "cell_type": "code",
   "execution_count": 19,
   "metadata": {},
   "outputs": [
    {
     "data": {
      "text/plain": [
       "StackEnsembleRegressor(base_learners=[('0',\n",
       "                                       Pipeline(memory=None,\n",
       "                                                steps=[('maxabsscaler',\n",
       "                                                        MaxAbsScaler(copy=True)),\n",
       "                                                       ('lightgbmregressor',\n",
       "                                                        LightGBMRegressor(boosting_type='gbdt',\n",
       "                                                                          class_weight=None,\n",
       "                                                                          colsample_bytree=1.0,\n",
       "                                                                          importance_type='split',\n",
       "                                                                          learning_rate=0.1,\n",
       "                                                                          max_depth=-1,\n",
       "                                                                          min_child_samples=20,\n",
       "                                                                          min_child_weight=0.001,\n",
       "                                                                          min_split_gain=0.0,\n",
       "                                                                          n_estimators=100,\n",
       "                                                                          n_jo...\n",
       "                                                                  normalize=False,\n",
       "                                                                  positive=False,\n",
       "                                                                  precompute='auto',\n",
       "                                                                  verbose=False))],\n",
       "                                                verbose=False))],\n",
       "                       meta_learner=ElasticNetCV(alphas=None, copy_X=True,\n",
       "                                                 cv=None, eps=0.001,\n",
       "                                                 fit_intercept=True,\n",
       "                                                 l1_ratio=0.5, max_iter=1000,\n",
       "                                                 n_alphas=100, n_jobs=None,\n",
       "                                                 normalize=False,\n",
       "                                                 positive=False,\n",
       "                                                 precompute='auto',\n",
       "                                                 random_state=None,\n",
       "                                                 selection='cyclic', tol=0.0001,\n",
       "                                                 verbose=0),\n",
       "                       training_cv_folds=5)"
      ]
     },
     "execution_count": 19,
     "metadata": {},
     "output_type": "execute_result"
    }
   ],
   "source": [
    "fitted_model.named_steps['stackensembleregressor']"
   ]
  },
  {
   "cell_type": "markdown",
   "metadata": {},
   "source": [
    "### Save model artifact "
   ]
  },
  {
   "cell_type": "code",
   "execution_count": 26,
   "metadata": {},
   "outputs": [],
   "source": [
    "import os\n",
    "import pickle\n",
    "\n",
    "model_artifact_folder = \"model_artifacts\"\n",
    "os.makedirs(model_artifact_folder, exist_ok=True)\n",
    "\n",
    "# Save the best model\n",
    "model_file_path = os.path.join(model_artifact_folder, \"autoML_RUL_prediction_model.pkl\")\n",
    "with open(model_file_path, \"wb\") as f: \n",
    "    pickle.dump(fitted_model, f)\n",
    "    "
   ]
  },
  {
   "cell_type": "code",
   "execution_count": 27,
   "metadata": {},
   "outputs": [
    {
     "name": "stdout",
     "output_type": "stream",
     "text": [
      "autoML_RUL_prediction_model.pkl\n"
     ]
    }
   ],
   "source": [
    "!ls model_artifacts"
   ]
  },
  {
   "cell_type": "markdown",
   "metadata": {},
   "source": [
    "## Model Deployment\n"
   ]
  },
  {
   "cell_type": "markdown",
   "metadata": {},
   "source": [
    "### Register the model"
   ]
  },
  {
   "cell_type": "code",
   "execution_count": null,
   "metadata": {
    "collapsed": false,
    "gather": {
     "logged": 1598431435189
    },
    "jupyter": {
     "outputs_hidden": false,
     "source_hidden": false
    },
    "nteract": {
     "transient": {
      "deleting": false
     }
    }
   },
   "outputs": [],
   "source": [
    "registered_model = autoML_remote_run.register_model(description=\"Model that predicts RUL of jet turbofan\")\n",
    "print(registered_model.model_id)"
   ]
  },
  {
   "cell_type": "markdown",
   "metadata": {
    "gather": {
     "logged": 1598431657736
    },
    "jupyter": {
     "outputs_hidden": false,
     "source_hidden": false
    },
    "nteract": {
     "transient": {
      "deleting": false
     }
    }
   },
   "source": [
    "### Test the deployed endpoint\n",
    "\n",
    "Deployment was done inside Azure ML studio.  "
   ]
  },
  {
   "cell_type": "code",
   "execution_count": 29,
   "metadata": {
    "collapsed": false,
    "gather": {
     "logged": 1598432707604
    },
    "jupyter": {
     "outputs_hidden": false,
     "source_hidden": false
    },
    "nteract": {
     "transient": {
      "deleting": false
     }
    }
   },
   "outputs": [
    {
     "name": "stdout",
     "output_type": "stream",
     "text": [
      "b'\"{\\\\\"result\\\\\": [59.77667311656396, 57.486508472066426]}\"'\n"
     ]
    }
   ],
   "source": [
    "!python test_endpoint.py"
   ]
  },
  {
   "cell_type": "markdown",
   "metadata": {},
   "source": [
    "### Enable Application Insights and get logs"
   ]
  },
  {
   "cell_type": "code",
   "execution_count": 31,
   "metadata": {
    "collapsed": false,
    "jupyter": {
     "outputs_hidden": false,
     "source_hidden": false
    },
    "nteract": {
     "transient": {
      "deleting": false
     }
    }
   },
   "outputs": [
    {
     "name": "stdout",
     "output_type": "stream",
     "text": [
      "2021-02-14T14:47:11,455096794+00:00 - iot-server/run \n",
      "2021-02-14T14:47:11,470352977+00:00 - rsyslog/run \n",
      "2021-02-14T14:47:11,470915980+00:00 - gunicorn/run \n",
      "2021-02-14T14:47:11,472791790+00:00 - nginx/run \n",
      "/usr/sbin/nginx: /azureml-envs/azureml_20a8278aa8b20dd48cc50f56a6d2586c/lib/libcrypto.so.1.0.0: no version information available (required by /usr/sbin/nginx)\n",
      "/usr/sbin/nginx: /azureml-envs/azureml_20a8278aa8b20dd48cc50f56a6d2586c/lib/libcrypto.so.1.0.0: no version information available (required by /usr/sbin/nginx)\n",
      "/usr/sbin/nginx: /azureml-envs/azureml_20a8278aa8b20dd48cc50f56a6d2586c/lib/libssl.so.1.0.0: no version information available (required by /usr/sbin/nginx)\n",
      "/usr/sbin/nginx: /azureml-envs/azureml_20a8278aa8b20dd48cc50f56a6d2586c/lib/libssl.so.1.0.0: no version information available (required by /usr/sbin/nginx)\n",
      "/usr/sbin/nginx: /azureml-envs/azureml_20a8278aa8b20dd48cc50f56a6d2586c/lib/libssl.so.1.0.0: no version information available (required by /usr/sbin/nginx)\n",
      "rsyslogd: /azureml-envs/azureml_20a8278aa8b20dd48cc50f56a6d2586c/lib/libuuid.so.1: no version information available (required by rsyslogd)\n",
      "EdgeHubConnectionString and IOTEDGE_IOTHUBHOSTNAME are not set. Exiting...\n",
      "2021-02-14T14:47:11,556688446+00:00 - iot-server/finish 1 0\n",
      "2021-02-14T14:47:11,557952352+00:00 - Exit code 1 is normal. Not restarting iot-server.\n",
      "Starting gunicorn 19.9.0\n",
      "Listening at: http://127.0.0.1:31311 (15)\n",
      "Using worker: sync\n",
      "worker timeout is set to 300\n",
      "Booting worker with pid: 42\n",
      "SPARK_HOME not set. Skipping PySpark Initialization.\n",
      "Generating new fontManager, this may take some time...\n",
      "Initializing logger\n",
      "2021-02-14 14:47:12,838 | root | INFO | Starting up app insights client\n",
      "2021-02-14 14:47:12,838 | root | INFO | Starting up request id generator\n",
      "2021-02-14 14:47:12,838 | root | INFO | Starting up app insight hooks\n",
      "2021-02-14 14:47:12,838 | root | INFO | Invoking user's init function\n",
      "2021-02-14 14:47:15,213 | root | INFO | Users's init has completed successfully\n",
      "2021-02-14 14:47:15,220 | root | INFO | Skipping middleware: dbg_model_info as it's not enabled.\n",
      "2021-02-14 14:47:15,220 | root | INFO | Skipping middleware: dbg_resource_usage as it's not enabled.\n",
      "2021-02-14 14:47:15,222 | root | INFO | Scoring timeout is found from os.environ: 60000 ms\n",
      "2021-02-14 14:47:18,219 | root | INFO | 200\n",
      "127.0.0.1 - - [14/Feb/2021:14:47:18 +0000] \"GET /swagger.json HTTP/1.0\" 200 3868 \"-\" \"Go-http-client/1.1\"\n",
      "2021-02-14 14:48:58,047 | root | INFO | Validation Request Content-Type\n",
      "2021-02-14 14:48:58,050 | root | ERROR | Encountered Exception: Traceback (most recent call last):\n",
      "  File \"/azureml-envs/azureml_20a8278aa8b20dd48cc50f56a6d2586c/lib/python3.6/site-packages/flask/wrappers.py\", line 74, in get_json\n",
      "    rv = json.loads(data)\n",
      "  File \"/azureml-envs/azureml_20a8278aa8b20dd48cc50f56a6d2586c/lib/python3.6/site-packages/flask/json/__init__.py\", line 236, in loads\n",
      "    return _json.loads(s, **kwargs)\n",
      "  File \"/azureml-envs/azureml_20a8278aa8b20dd48cc50f56a6d2586c/lib/python3.6/json/__init__.py\", line 367, in loads\n",
      "    return cls(**kw).decode(s)\n",
      "  File \"/azureml-envs/azureml_20a8278aa8b20dd48cc50f56a6d2586c/lib/python3.6/json/decoder.py\", line 339, in decode\n",
      "    obj, end = self.raw_decode(s, idx=_w(s, 0).end())\n",
      "  File \"/azureml-envs/azureml_20a8278aa8b20dd48cc50f56a6d2586c/lib/python3.6/json/decoder.py\", line 357, in raw_decode\n",
      "    raise JSONDecodeError(\"Expecting value\", s, err.value) from None\n",
      "json.decoder.JSONDecodeError: Expecting value: line 1 column 1 (char 0)\n",
      "\n",
      "During handling of the above exception, another exception occurred:\n",
      "\n",
      "Traceback (most recent call last):\n",
      "  File \"/azureml-envs/azureml_20a8278aa8b20dd48cc50f56a6d2586c/lib/python3.6/site-packages/flask/app.py\", line 1832, in full_dispatch_request\n",
      "    rv = self.dispatch_request()\n",
      "  File \"/azureml-envs/azureml_20a8278aa8b20dd48cc50f56a6d2586c/lib/python3.6/site-packages/flask/app.py\", line 1818, in dispatch_request\n",
      "    return self.view_functions[rule.endpoint](**req.view_args)\n",
      "  File \"/var/azureml-server/synchronous/routes.py\", line 37, in score_realtime\n",
      "    service_input = request.get_json()\n",
      "  File \"/azureml-envs/azureml_20a8278aa8b20dd48cc50f56a6d2586c/lib/python3.6/site-packages/flask/wrappers.py\", line 82, in get_json\n",
      "    rv = self.on_json_loading_failed(e)\n",
      "  File \"/azureml-envs/azureml_20a8278aa8b20dd48cc50f56a6d2586c/lib/python3.6/site-packages/flask/wrappers.py\", line 108, in on_json_loading_failed\n",
      "    raise BadRequest()\n",
      "werkzeug.exceptions.BadRequest: 400 Bad Request: The browser (or proxy) sent a request that this server could not understand.\n",
      "\n",
      "2021-02-14 14:48:58,050 | root | INFO | 500\n",
      "127.0.0.1 - - [14/Feb/2021:14:48:58 +0000] \"POST /score HTTP/1.0\" 500 2067 \"-\" \"python-requests/2.24.0\"\n",
      "2021-02-14 14:49:57,717 | root | INFO | Validation Request Content-Type\n",
      "2021-02-14 14:49:57,718 | root | ERROR | Encountered Exception: Traceback (most recent call last):\n",
      "  File \"/azureml-envs/azureml_20a8278aa8b20dd48cc50f56a6d2586c/lib/python3.6/site-packages/flask/wrappers.py\", line 74, in get_json\n",
      "    rv = json.loads(data)\n",
      "  File \"/azureml-envs/azureml_20a8278aa8b20dd48cc50f56a6d2586c/lib/python3.6/site-packages/flask/json/__init__.py\", line 236, in loads\n",
      "    return _json.loads(s, **kwargs)\n",
      "  File \"/azureml-envs/azureml_20a8278aa8b20dd48cc50f56a6d2586c/lib/python3.6/json/__init__.py\", line 367, in loads\n",
      "    return cls(**kw).decode(s)\n",
      "  File \"/azureml-envs/azureml_20a8278aa8b20dd48cc50f56a6d2586c/lib/python3.6/json/decoder.py\", line 339, in decode\n",
      "    obj, end = self.raw_decode(s, idx=_w(s, 0).end())\n",
      "  File \"/azureml-envs/azureml_20a8278aa8b20dd48cc50f56a6d2586c/lib/python3.6/json/decoder.py\", line 357, in raw_decode\n",
      "    raise JSONDecodeError(\"Expecting value\", s, err.value) from None\n",
      "json.decoder.JSONDecodeError: Expecting value: line 1 column 1 (char 0)\n",
      "\n",
      "During handling of the above exception, another exception occurred:\n",
      "\n",
      "Traceback (most recent call last):\n",
      "  File \"/azureml-envs/azureml_20a8278aa8b20dd48cc50f56a6d2586c/lib/python3.6/site-packages/flask/app.py\", line 1832, in full_dispatch_request\n",
      "    rv = self.dispatch_request()\n",
      "  File \"/azureml-envs/azureml_20a8278aa8b20dd48cc50f56a6d2586c/lib/python3.6/site-packages/flask/app.py\", line 1818, in dispatch_request\n",
      "    return self.view_functions[rule.endpoint](**req.view_args)\n",
      "  File \"/var/azureml-server/synchronous/routes.py\", line 37, in score_realtime\n",
      "    service_input = request.get_json()\n",
      "  File \"/azureml-envs/azureml_20a8278aa8b20dd48cc50f56a6d2586c/lib/python3.6/site-packages/flask/wrappers.py\", line 82, in get_json\n",
      "    rv = self.on_json_loading_failed(e)\n",
      "  File \"/azureml-envs/azureml_20a8278aa8b20dd48cc50f56a6d2586c/lib/python3.6/site-packages/flask/wrappers.py\", line 108, in on_json_loading_failed\n",
      "    raise BadRequest()\n",
      "werkzeug.exceptions.BadRequest: 400 Bad Request: The browser (or proxy) sent a request that this server could not understand.\n",
      "\n",
      "2021-02-14 14:49:57,719 | root | INFO | 500\n",
      "127.0.0.1 - - [14/Feb/2021:14:49:57 +0000] \"POST /score HTTP/1.0\" 500 2067 \"-\" \"python-requests/2.24.0\"\n",
      "2021-02-14 14:51:03,785 | root | INFO | Validation Request Content-Type\n",
      "2021-02-14 14:51:03,786 | root | INFO | Scoring Timer is set to 60.0 seconds\n",
      "2021-02-14 14:51:03,909 | root | INFO | 200\n",
      "127.0.0.1 - - [14/Feb/2021:14:51:03 +0000] \"POST /score HTTP/1.0\" 200 35 \"-\" \"Python-urllib/3.8\"\n",
      "2021-02-14 14:54:24,241 | root | INFO | Validation Request Content-Type\n",
      "2021-02-14 14:54:24,242 | root | INFO | Scoring Timer is set to 60.0 seconds\n",
      "2021-02-14 14:54:24,370 | root | INFO | 200\n",
      "127.0.0.1 - - [14/Feb/2021:14:54:24 +0000] \"POST /score HTTP/1.0\" 200 55 \"-\" \"Python-urllib/3.8\"\n",
      "2021-02-14 14:54:47,430 | root | INFO | Validation Request Content-Type\n",
      "2021-02-14 14:54:47,431 | root | INFO | Scoring Timer is set to 60.0 seconds\n",
      "2021-02-14 14:54:47,556 | root | INFO | 200\n",
      "127.0.0.1 - - [14/Feb/2021:14:54:47 +0000] \"POST /score HTTP/1.0\" 200 55 \"-\" \"Python-urllib/3.8\"\n",
      "2021-02-14 14:58:20,152 | root | INFO | Validation Request Content-Type\n",
      "2021-02-14 14:58:20,153 | root | INFO | Scoring Timer is set to 60.0 seconds\n",
      "2021-02-14 14:58:20,273 | root | INFO | 200\n",
      "127.0.0.1 - - [14/Feb/2021:14:58:20 +0000] \"POST /score HTTP/1.0\" 200 55 \"-\" \"Python-urllib/3.6\"\n",
      "2021-02-14 14:59:02,728 | root | INFO | 200\n",
      "127.0.0.1 - - [14/Feb/2021:14:59:02 +0000] \"GET /swagger.json HTTP/1.0\" 200 3868 \"-\" \"Go-http-client/1.1\"\n",
      "2021-02-14 14:59:04,865 | root | INFO | 200\n",
      "127.0.0.1 - - [14/Feb/2021:14:59:04 +0000] \"GET /swagger.json HTTP/1.0\" 200 3868 \"-\" \"Go-http-client/1.1\"\n",
      "\n"
     ]
    }
   ],
   "source": [
    "!python logs.py"
   ]
  },
  {
   "cell_type": "markdown",
   "metadata": {},
   "source": [
    "### Delete webservice"
   ]
  },
  {
   "cell_type": "code",
   "execution_count": 33,
   "metadata": {},
   "outputs": [],
   "source": [
    "from azureml.core.webservice import Webservice\n",
    "\n",
    "endpoint_name = \"turbofan-rul-automl\"\n",
    "service = Webservice(name=endpoint_name, workspace=ws)"
   ]
  },
  {
   "cell_type": "code",
   "execution_count": 34,
   "metadata": {},
   "outputs": [],
   "source": [
    "service.delete()"
   ]
  }
 ],
 "metadata": {
  "kernel_info": {
   "name": "python3"
  },
  "kernelspec": {
   "display_name": "Python 3",
   "language": "python",
   "name": "python3"
  },
  "language_info": {
   "codemirror_mode": {
    "name": "ipython",
    "version": 3
   },
   "file_extension": ".py",
   "mimetype": "text/x-python",
   "name": "python",
   "nbconvert_exporter": "python",
   "pygments_lexer": "ipython3",
   "version": "3.6.9"
  },
  "nteract": {
   "version": "nteract-front-end@1.0.0"
  }
 },
 "nbformat": 4,
 "nbformat_minor": 4
}
